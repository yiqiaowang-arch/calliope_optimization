{
 "cells": [
  {
   "cell_type": "code",
   "execution_count": 23,
   "outputs": [],
   "source": [
    "import calliope\n",
    "import pandas as pd\n",
    "from building import Building\n",
    "import geopandas as gpd\n",
    "import gc\n",
    "import os\n",
    "import matplotlib.pyplot as plt\n",
    "import glob\n",
    "import warnings"
   ],
   "metadata": {
    "collapsed": false,
    "ExecuteTime": {
     "end_time": "2023-12-12T22:58:23.773022500Z",
     "start_time": "2023-12-12T22:58:23.739194Z"
    }
   },
   "id": "56782513d0b5ae86"
  },
  {
   "cell_type": "code",
   "execution_count": 24,
   "outputs": [],
   "source": [
    "calliope.set_log_verbosity(verbosity='error', include_solver_output=False, capture_warnings=False)\n",
    "# disable the warnings\n",
    "warnings.filterwarnings('ignore')"
   ],
   "metadata": {
    "collapsed": false,
    "ExecuteTime": {
     "end_time": "2023-12-12T22:58:25.318424100Z",
     "start_time": "2023-12-12T22:58:25.286863400Z"
    }
   },
   "id": "65a83d6a86d0d8b1"
  },
  {
   "cell_type": "code",
   "execution_count": 14,
   "outputs": [],
   "source": [
    "# define a function that optimize one single building\n",
    "def get_building_model(building_name, building_scenario_folder, yaml_path, store_folder,\n",
    "                       building_status: pd.Series = None, flatten_spikes=False, flatten_percentile=0.98, \n",
    "                       to_lp=False, to_yaml=False, \n",
    "                       obj='cost',\n",
    "                       emission_constraint: ['cost', 'emission']=None):\n",
    "    building = Building(building_name, building_scenario_folder)\n",
    "    if flatten_spikes:\n",
    "        building.flatten_spikes_demand(percentile=flatten_percentile) # flatten the demand spikes\n",
    "    dict_timeseries_df = {'demand_el': building.app,\n",
    "                          'demand_sh': building.sh,\n",
    "                          'demand_dhw': building.dhw,\n",
    "                          'demand_sc': building.sc,\n",
    "                          'supply_PV': building.pv_intensity,\n",
    "                          'supply_PVT_e': building.pvt_e_intensity,\n",
    "                          'supply_PVT_h': building.pvt_h_relative_intensity,\n",
    "                          'supply_SCFP': building.scfp_intensity\n",
    "                          }\n",
    "    # modify the building_specific_config to match the building's status\n",
    "    building_specific_config: calliope.AttrDict = calliope.AttrDict.from_yaml(yaml_path)\n",
    "    building_specific_config.set_key(key='locations.Building.available_area', value=building.area)\n",
    "    print('the area of building '+building.name+' is '+str(building.area)+' m2')\n",
    "    building_sub_dict = building_specific_config['locations'].pop('Building')\n",
    "    building_specific_config['locations'][building.name] = building_sub_dict\n",
    "    \n",
    "    # update geothermal storage max capacity\n",
    "    building_specific_config.set_key(key=f'locations.{building.name}.techs.geothermal_boreholes.constraints.energy_cap_max',\n",
    "                                     value=(building.area+400)*0.1) # assume 100W/m2 max yield\n",
    "    if building_status is not None:\n",
    "        # if building is not in district heating area, delete the district heating technologies keys\n",
    "        if not building_status['is_disheat']:\n",
    "            building_specific_config.del_key(f'locations.{building.name}.techs.DHDC_small_heat')\n",
    "            building_specific_config.del_key(f'locations.{building.name}.techs.DHDC_medium_heat')\n",
    "            building_specific_config.del_key(f'locations.{building.name}.techs.DHDC_large_heat')\n",
    "            \n",
    "        # if building is already equipped with GSHP, set the GSHP purchase cost to 0\n",
    "        if building_status['already_GSHP']:\n",
    "            building_specific_config.set_key(f'locations.{building.name}.techs.GSHP_heat.costs.monetary.purchase', 0)\n",
    "            building_specific_config.set_key(f'locations.{building.name}.techs.GSHP_heat.costs.monetary.energy_cap', 0)\n",
    "            \n",
    "        # if building is already equipped with ASHP, set the ASHP purchase cost to 0\n",
    "        if building_status['already_ASHP']:\n",
    "            building_specific_config.set_key(f'locations.{building.name}.techs.ASHP.costs.monetary.purchase', 0)\n",
    "            building_specific_config.set_key(f'locations.{building.name}.techs.ASHP.costs.monetary.energy_cap', 0)\n",
    "            \n",
    "        # if building is not rebuilt, set GSHP and ASHP costs higher\n",
    "        if not building_status['is_rebuilt']:\n",
    "            if not building_status['already_GSHP']:\n",
    "                building_specific_config.set_key(f'locations.{building.name}.techs.GSHP_heat.costs.monetary.purchase', 39934)\n",
    "                building_specific_config.set_key(f'locations.{building.name}.techs.GSHP_heat.costs.monetary.energy_cap', 1316)\n",
    "            if not building_status['already_ASHP']:\n",
    "                building_specific_config.set_key(f'locations.{building.name}.techs.ASHP.costs.monetary.purchase', 18086)\n",
    "                building_specific_config.set_key(f'locations.{building.name}.techs.ASHP.costs.monetary.energy_cap', 1360)\n",
    "                \n",
    "        # if building is not new, delete the GSHP technology keys\n",
    "        if not building_status['is_new']:\n",
    "            building_specific_config.del_key(f'locations.{building.name}.techs.GSHP_heat')\n",
    "            building_specific_config.del_key(f'locations.{building.name}.techs.GSHP_cooling')\n",
    "            building_specific_config.del_key(f'locations.{building.name}.techs.geothermal_boreholes')\n",
    "            \n",
    "    # # test: delete ASHP\n",
    "    # building_specific_config.del_key(f'locations.{building.name}.techs.ASHP')\n",
    "    \n",
    "    # if emission constraint is not None, add it to the building_specific_config\n",
    "    if emission_constraint is not None:\n",
    "        building_specific_config.set_key(key='group_constraints.systemwide_co2_cap.cost_max.co2', value=emission_constraint)\n",
    "    \n",
    "    # if obj is cost, set the objective to be cost; if obj is emission, set the objective to be emission\n",
    "    if obj == 'cost':\n",
    "        building_specific_config.set_key(key='run.objective_options.cost_class.monetary', value=1)\n",
    "        building_specific_config.set_key(key='run.objective_options.cost_class.co2', value=0)\n",
    "    elif obj == 'emission':\n",
    "        building_specific_config.set_key(key='run.objective_options.cost_class.monetary', value=0)\n",
    "        building_specific_config.set_key(key='run.objective_options.cost_class.co2', value=1)\n",
    "    else:\n",
    "        raise ValueError('obj must be either cost or emission')\n",
    "    # print current objective setting\n",
    "    print(building_specific_config.get_key('run.objective_options.cost_class'))\n",
    "    model = calliope.Model(building_specific_config, timeseries_dataframes=dict_timeseries_df)\n",
    "    if to_lp:\n",
    "        model.to_lp(store_folder+'/'+building.name+'.lp')\n",
    "    if to_yaml:\n",
    "        model.save_commented_model_yaml(store_folder+'/'+building.name+'.yaml')\n",
    "    return model\n",
    "    "
   ],
   "metadata": {
    "collapsed": false,
    "ExecuteTime": {
     "end_time": "2023-12-12T22:51:58.832558800Z",
     "start_time": "2023-12-12T22:51:58.789961600Z"
    }
   },
   "id": "61f509cede72ce17"
  },
  {
   "cell_type": "code",
   "execution_count": 15,
   "outputs": [],
   "source": [
    "# define a function that finds the pareto front of one building regarding cost and emission\n",
    "def get_pareto_front(epsilon:int, building_name, building_scenario_folder, yaml_path, store_folder,\n",
    "                     building_status: pd.Series = None, flatten_spikes=False, flatten_percentile=0.98,\n",
    "                     to_lp=False, to_yaml=False):\n",
    "    df_pareto = pd.DataFrame(columns=['cost', 'emission'], index=range(epsilon+2))\n",
    "    # read yaml file and get the list of technologies\n",
    "    tech_list = calliope.AttrDict.from_yaml(yaml_path).get_key(f'locations.Building.techs').keys()\n",
    "    df_tech_cap_pareto = pd.DataFrame(columns=tech_list, index=range(epsilon+2))\n",
    "    # first get the emission-optimal solution\n",
    "    model_emission = get_building_model(building_name=building_name, building_scenario_folder=building_scenario_folder, \n",
    "                                        yaml_path=yaml_path, store_folder=store_folder, \n",
    "                                        building_status=building_status, flatten_spikes=flatten_spikes, \n",
    "                                        flatten_percentile=flatten_percentile, to_lp=to_lp, to_yaml=to_yaml, \n",
    "                                        obj='emission')\n",
    "    model_emission.run()\n",
    "    print('emission is done')\n",
    "    # store the cost and emission in df_pareto\n",
    "    df_emission = model_emission.get_formatted_array('cost').sel(locs=building_name).to_pandas().transpose().sum(axis=0)\n",
    "    # add the cost and emission to df_pareto\n",
    "    df_pareto.loc[0] = [df_emission['monetary'], df_emission['co2']]\n",
    "    # store the technology capacities in df_tech_cap_pareto\n",
    "    df_tech_cap_pareto.loc[0] = model_emission.get_formatted_array('energy_cap').to_pandas().iloc[0]\n",
    "    \n",
    "    # then get the cost-optimal solution\n",
    "    model_cost = get_building_model(building_name=building_name, building_scenario_folder=building_scenario_folder, \n",
    "                                    yaml_path=yaml_path, store_folder=store_folder, \n",
    "                                    building_status=building_status, flatten_spikes=flatten_spikes, \n",
    "                                    flatten_percentile=flatten_percentile, to_lp=to_lp, to_yaml=to_yaml, \n",
    "                                    obj='cost')\n",
    "    # run model cost, and find both cost and emission of this result\n",
    "    model_cost.run()\n",
    "    print('cost is done')\n",
    "    # store the cost and emission in df_pareto\n",
    "    # add epsilon name as row index, start with epsilon_0\n",
    "    df_cost: pd.DataFrame = model_cost.get_formatted_array('cost').sel(locs=building_name).to_pandas().transpose().sum(axis=0) # first column co2, second column monetary\n",
    "    # add the cost and emission to df_pareto\n",
    "    df_pareto.loc[epsilon+1] = [df_cost['monetary'], df_cost['co2']]\n",
    "    # store the technology capacities in df_tech_cap_pareto\n",
    "    df_tech_cap_pareto.loc[epsilon+1] = model_cost.get_formatted_array('energy_cap').to_pandas().iloc[0]\n",
    "    # based on epsilon numbers, create empty rows in df_pareto for further filling\n",
    "\n",
    "    # then get the epsilon-optimal solution\n",
    "    # first find out min and max emission, and epsilon emissions are evenly distributed between them\n",
    "    # if cost and emission optimal have the same emission, then there's no pareto front\n",
    "    if df_cost['co2'] <= df_emission['co2']:\n",
    "        print('cost-optimal and emission-optimal have the same emission, no pareto front')\n",
    "        return df_pareto\n",
    "    else:\n",
    "        emission_max =df_cost['co2']\n",
    "        emission_min =df_emission['co2']\n",
    "        # calculate the interval between two emissions\n",
    "        interval = (emission_max - emission_min) / (epsilon+1)\n",
    "        # for each epsilon, get the epsilon-optimal solution\n",
    "        for i in range(1, epsilon+1):\n",
    "            print(f'starting epsilon {i}')\n",
    "            # set the emission constraint to be emission_min + i * interval\n",
    "            emission_constraint = emission_min + i * interval\n",
    "            model_epsilon = get_building_model(building_name=building_name, building_scenario_folder=building_scenario_folder, \n",
    "                                               yaml_path=yaml_path, store_folder=store_folder, \n",
    "                                               building_status=building_status, flatten_spikes=flatten_spikes, \n",
    "                                               flatten_percentile=flatten_percentile, to_lp=to_lp, to_yaml=to_yaml, \n",
    "                                               obj='cost', emission_constraint=emission_constraint)\n",
    "            model_epsilon.run()\n",
    "            \n",
    "            print(f'epsilon {i} is done')\n",
    "            # store the cost and emission in df_pareto\n",
    "            df_epsilon = model_epsilon.get_formatted_array('cost').sel(locs=building_name).to_pandas().transpose().sum(axis=0)\n",
    "            # add the cost and emission to df_pareto\n",
    "            df_pareto.loc[i] = [df_epsilon['monetary'], df_epsilon['co2']]\n",
    "            # store the technology capacities in df_tech_cap_pareto\n",
    "            df_tech_cap_pareto.loc[i] = model_epsilon.get_formatted_array('energy_cap').to_pandas().iloc[0]\n",
    "            \n",
    "        df_pareto = df_pareto.merge(df_tech_cap_pareto, left_index=True, right_index=True)\n",
    "        df_pareto = df_pareto.astype({'cost': float, 'emission': float})\n",
    "        return df_pareto"
   ],
   "metadata": {
    "collapsed": false,
    "ExecuteTime": {
     "end_time": "2023-12-12T22:51:59.322877700Z",
     "start_time": "2023-12-12T22:51:59.269313400Z"
    }
   },
   "id": "3cb586719250502d"
  },
  {
   "cell_type": "code",
   "execution_count": 4,
   "outputs": [],
   "source": [
    "scenario_folder = r'C:\\Users\\wangy\\OneDrive\\ETHY2FW\\IDP_Personal\\CEA\\2050 w3'\n",
    "zone_gdf = gpd.read_file(scenario_folder+r'\\inputs\\building-geometry\\zone.shp')\n",
    "# create a new df using only the columns we need\n",
    "zone_df = pd.DataFrame()\n",
    "zone_df['Name'] = zone_gdf['Name']\n",
    "zone_df.index = zone_df['Name']\n",
    "# delete the Name column in zone_df\n",
    "zone_df = zone_df.drop(columns='Name')"
   ],
   "metadata": {
    "collapsed": false,
    "ExecuteTime": {
     "end_time": "2023-12-12T22:40:10.522712800Z",
     "start_time": "2023-12-12T22:40:10.034156500Z"
    }
   },
   "id": "e168228bad74e25c"
  },
  {
   "cell_type": "code",
   "execution_count": 5,
   "outputs": [],
   "source": [
    "zone_gdf['area'] = zone_gdf['geometry'].area"
   ],
   "metadata": {
    "collapsed": false,
    "ExecuteTime": {
     "end_time": "2023-12-12T22:40:11.714617Z",
     "start_time": "2023-12-12T22:40:11.637176100Z"
    }
   },
   "id": "ff552112b4a7f80f"
  },
  {
   "cell_type": "code",
   "execution_count": 6,
   "outputs": [],
   "source": [
    "# read the csv file containing if the building is inside district area\n",
    "district_df = pd.read_csv(scenario_folder+r'\\inputs\\is_disheat.csv', index_col=0)\n",
    "# merge the two df\n",
    "zone_df = zone_df.merge(district_df, left_index=True, right_index=True)\n",
    "# read the csv file containing if building is rebuilt\n",
    "rebuild_df = pd.read_csv(scenario_folder+r'\\inputs\\Rebuild.csv', index_col=0)\n",
    "# merge the two df, but since the zone_df has more columns, if rebuild_df doesn't contain some building, set the value to 0\n",
    "zone_df = zone_df.merge(rebuild_df, left_index=True, right_index=True, how='left').fillna(0)\n",
    "# read the csv file containing if the building is renovated\n",
    "renovate_df = pd.read_csv(scenario_folder+r'\\inputs\\Renovation.csv', index_col=0)\n",
    "# merge the two df, but since the zone_df has more columns, if renovate_df doesn't contain some building, set the value to 0\n",
    "zone_df = zone_df.merge(renovate_df, left_index=True, right_index=True, how='left').fillna(0)\n",
    "# read dbf file containing current building systems\n",
    "current_system_df = gpd.read_file(r\"C:\\Users\\wangy\\OneDrive\\ETHY2FW\\IDP_Personal\\CEA\\2023 Baseline\\inputs\\building-properties\\supply_systems.dbf\")\n",
    "# leave only the type_hs column\n",
    "current_system_df = current_system_df[['Name', 'type_hs']]\n",
    "current_system_df.index = current_system_df['Name']\n",
    "current_system_df = current_system_df.drop(columns='Name')\n",
    "# merge the two df, but since the zone_df has more columns\n",
    "zone_df = zone_df.merge(current_system_df, left_index=True, right_index=True, how='left')"
   ],
   "metadata": {
    "collapsed": false,
    "ExecuteTime": {
     "end_time": "2023-12-12T22:40:57.981259200Z",
     "start_time": "2023-12-12T22:40:57.863706400Z"
    }
   },
   "id": "7a7d93521fe20843"
  },
  {
   "cell_type": "code",
   "execution_count": 7,
   "outputs": [],
   "source": [
    "# add indicating columns to guide adjusting AttrDict based on building's status\n",
    "zone_df['is_disheat'] = zone_df['DisHeat'].astype(bool)\n",
    "zone_df['is_rebuilt'] = zone_df['Rebuild'].astype(bool)\n",
    "zone_df['is_renovated'] = zone_df['Renovation'].astype(bool)\n",
    "zone_df['is_new'] = ~zone_df['is_rebuilt'] & ~zone_df['is_renovated']\n",
    "zone_df['already_GSHP'] = zone_df['type_hs'] == 'SUPPLY_HEATING_AS6'\n",
    "zone_df['already_ASHP'] = zone_df['type_hs'] == 'SUPPLY_HEATING_AS7'\n",
    "zone_df['no_heat'] = zone_df['type_hs'] == 'SUPPLY_HEATING_AS0'"
   ],
   "metadata": {
    "collapsed": false,
    "ExecuteTime": {
     "end_time": "2023-12-12T22:40:59.239510800Z",
     "start_time": "2023-12-12T22:40:59.175378Z"
    }
   },
   "id": "126cf0cd7c3aa500"
  },
  {
   "cell_type": "code",
   "execution_count": 10,
   "outputs": [],
   "source": [
    "# iterate through the zone_df to create the building objects and store them in a list\n",
    "building_list = []\n",
    "# check if building's name is already stored in subfolder result_per_building; if not, add it to the list\n",
    "for index, row in zone_df.iterrows():\n",
    "    building_name = index\n",
    "    if building_name+'_pareto.csv' not in os.listdir('./result_pareto'):\n",
    "        building_list.append(building_name)\n",
    "    else:\n",
    "        print(building_name+' is already done')"
   ],
   "metadata": {
    "collapsed": false,
    "ExecuteTime": {
     "end_time": "2023-12-12T22:50:32.050704700Z",
     "start_time": "2023-12-12T22:50:31.981777800Z"
    }
   },
   "id": "914e1a44daaced30"
  },
  {
   "cell_type": "code",
   "execution_count": 11,
   "outputs": [],
   "source": [
    "test_building_list = [\n",
    "    # 'B302030807',\n",
    "                      # 'B302030808', 'B302030809', 'B302030810', 'B302030811', 'B302030812', 'B302030813'\n",
    "                      ]"
   ],
   "metadata": {
    "collapsed": false,
    "ExecuteTime": {
     "end_time": "2023-12-12T22:50:46.832186900Z",
     "start_time": "2023-12-12T22:50:46.800448900Z"
    }
   },
   "id": "b430423ecb947259"
  },
  {
   "cell_type": "code",
   "execution_count": null,
   "outputs": [
    {
     "name": "stdout",
     "output_type": "stream",
     "text": [
      "B162953 doesn't have GSHP\n",
      "B162948 doesn't have GSHP\n",
      "B162947 doesn't have GSHP\n",
      "B302011886 doesn't need heating\n",
      "B162917 doesn't have GSHP\n",
      "B2365661 doesn't have GSHP\n",
      "B162952 doesn't have GSHP\n",
      "B302012803 doesn't need heating\n",
      "B162935 doesn't have GSHP\n",
      "B162946 doesn't have GSHP\n",
      "B302024523 doesn't have GSHP\n",
      "B302024094 doesn't need heating\n",
      "B302024524 doesn't have GSHP\n",
      "B302013071 doesn't need heating\n",
      "B302024327 doesn't need heating\n",
      "B162920 doesn't have GSHP\n",
      "B302011676 doesn't need heating\n",
      "B302060757 doesn't need heating\n",
      "B162916 doesn't have GSHP\n",
      "B302022562 doesn't have GSHP\n",
      "B162581 doesn't have GSHP\n",
      "B302022561 doesn't have GSHP\n",
      "B162585 doesn't have GSHP\n",
      "B162579 doesn't have GSHP\n",
      "B162578 doesn't have GSHP\n",
      "B302024344 doesn't need heating\n",
      "B302011740 doesn't need heating\n",
      "B162396 doesn't have GSHP\n",
      "B162831 doesn't have GSHP\n",
      "B162482 doesn't have GSHP\n",
      "B162404 doesn't have GSHP\n",
      "B162446 doesn't have GSHP\n",
      "B302024101 doesn't need heating\n",
      "B162493 doesn't have GSHP\n",
      "B162930 doesn't have GSHP\n",
      "B162327 doesn't have GSHP\n",
      "B162510 doesn't have GSHP\n",
      "B2365747 doesn't have GSHP\n",
      "B302034411 doesn't have GSHP\n",
      "the area of building B302032606 is 367.64617067473654 m2\n",
      "{'co2': 1, 'monetary': 0}\n",
      "emission is done\n",
      "the area of building B302032606 is 367.64617067473654 m2\n",
      "{'co2': 0, 'monetary': 1}\n"
     ]
    }
   ],
   "source": [
    "# iterate through the zone_df get pareto front for each building and store output in a dictionary\n",
    "dict_pareto = {}\n",
    "for idx, row in zone_df.iterrows():\n",
    "    # if building already in building_list, skip it\n",
    "    if idx not in building_list:\n",
    "        continue\n",
    "        \n",
    "    # if building doesn't need heating, skip it\n",
    "    if row['no_heat']:\n",
    "        print(idx+' doesn\\'t need heating')\n",
    "        continue\n",
    "        \n",
    "    # if building not having GSHP, skip it\n",
    "    if not row['already_GSHP']:\n",
    "        print(idx+' doesn\\'t have GSHP')\n",
    "        continue\n",
    "    \n",
    "    # # if building not in test_building_list, skip it\n",
    "    # if idx not in test_building_list:\n",
    "    #     continue\n",
    "    \n",
    "    # if building is not in district heating area, skip it\n",
    "    df_pareto = get_pareto_front(epsilon=5, building_name=idx, building_scenario_folder=scenario_folder, \n",
    "                                                 yaml_path='./data/technology/techs_plot8.yml', store_folder='./result_site_specific_2',\n",
    "                                                 building_status=zone_df.loc[idx], flatten_spikes=True, flatten_percentile=0.98, \n",
    "                                                 to_lp=False, to_yaml=False)\n",
    "    dict_pareto[idx] = df_pareto\n",
    "    # save the df_pareto as csv\n",
    "    df_pareto.to_csv('./result_pareto/'+idx+'_pareto.csv')\n",
    "    print(idx+' is done')\n",
    "    # clean up the rest of the memory\n",
    "    gc.collect()"
   ],
   "metadata": {
    "collapsed": false,
    "is_executing": true,
    "ExecuteTime": {
     "start_time": "2023-12-12T22:58:29.728395900Z"
    }
   },
   "id": "83eef93bad0ea2f0"
  },
  {
   "cell_type": "code",
   "execution_count": 8,
   "outputs": [
    {
     "name": "stdout",
     "output_type": "stream",
     "text": [
      "the area of building B302030807 is 273.51458448111305 m2\n",
      "{'co2': 1, 'monetary': 0}\n"
     ]
    },
    {
     "name": "stderr",
     "output_type": "stream",
     "text": [
      "C:\\Users\\wangy\\miniforge3\\envs\\calliope\\lib\\site-packages\\calliope\\exceptions.py:60: ModelWarning:\n",
      "\n",
      "Possible issues found during model processing:\n",
      " * Integer and / or binary decision variables are included in this model. This may adversely affect solution time, particularly if you are using a non-commercial solver. To improve solution time, consider changing MILP related solver options (e.g. `mipgap`) or removing MILP constraints.\n",
      "\n"
     ]
    },
    {
     "name": "stdout",
     "output_type": "stream",
     "text": [
      "emission is done\n",
      "the area of building B302030807 is 273.51458448111305 m2\n",
      "{'co2': 0, 'monetary': 1}\n"
     ]
    },
    {
     "name": "stderr",
     "output_type": "stream",
     "text": [
      "C:\\Users\\wangy\\miniforge3\\envs\\calliope\\lib\\site-packages\\calliope\\exceptions.py:60: ModelWarning:\n",
      "\n",
      "Possible issues found during model processing:\n",
      " * Monetary cost class with a weight of 1 is still included in the objective. If you want to remove the monetary cost class, add `{\"monetary\": 0}` to the dictionary nested under  `run.objective_options.cost_class`.\n",
      "\n",
      "C:\\Users\\wangy\\miniforge3\\envs\\calliope\\lib\\site-packages\\calliope\\exceptions.py:60: ModelWarning:\n",
      "\n",
      "Possible issues found during model processing:\n",
      " * Integer and / or binary decision variables are included in this model. This may adversely affect solution time, particularly if you are using a non-commercial solver. To improve solution time, consider changing MILP related solver options (e.g. `mipgap`) or removing MILP constraints.\n",
      "\n"
     ]
    },
    {
     "name": "stdout",
     "output_type": "stream",
     "text": [
      "cost is done\n",
      "starting epsilon 1\n",
      "the area of building B302030807 is 273.51458448111305 m2\n",
      "{'co2': 0, 'monetary': 1}\n"
     ]
    },
    {
     "name": "stderr",
     "output_type": "stream",
     "text": [
      "C:\\Users\\wangy\\miniforge3\\envs\\calliope\\lib\\site-packages\\calliope\\exceptions.py:60: ModelWarning:\n",
      "\n",
      "Possible issues found during model processing:\n",
      " * Monetary cost class with a weight of 1 is still included in the objective. If you want to remove the monetary cost class, add `{\"monetary\": 0}` to the dictionary nested under  `run.objective_options.cost_class`.\n",
      "\n",
      "C:\\Users\\wangy\\miniforge3\\envs\\calliope\\lib\\site-packages\\calliope\\exceptions.py:60: ModelWarning:\n",
      "\n",
      "Possible issues found during model processing:\n",
      " * Integer and / or binary decision variables are included in this model. This may adversely affect solution time, particularly if you are using a non-commercial solver. To improve solution time, consider changing MILP related solver options (e.g. `mipgap`) or removing MILP constraints.\n",
      "\n"
     ]
    },
    {
     "name": "stdout",
     "output_type": "stream",
     "text": [
      "epsilon 1 is done\n",
      "starting epsilon 2\n",
      "the area of building B302030807 is 273.51458448111305 m2\n",
      "{'co2': 0, 'monetary': 1}\n"
     ]
    },
    {
     "name": "stderr",
     "output_type": "stream",
     "text": [
      "C:\\Users\\wangy\\miniforge3\\envs\\calliope\\lib\\site-packages\\calliope\\exceptions.py:60: ModelWarning:\n",
      "\n",
      "Possible issues found during model processing:\n",
      " * Monetary cost class with a weight of 1 is still included in the objective. If you want to remove the monetary cost class, add `{\"monetary\": 0}` to the dictionary nested under  `run.objective_options.cost_class`.\n",
      "\n",
      "C:\\Users\\wangy\\miniforge3\\envs\\calliope\\lib\\site-packages\\calliope\\exceptions.py:60: ModelWarning:\n",
      "\n",
      "Possible issues found during model processing:\n",
      " * Integer and / or binary decision variables are included in this model. This may adversely affect solution time, particularly if you are using a non-commercial solver. To improve solution time, consider changing MILP related solver options (e.g. `mipgap`) or removing MILP constraints.\n",
      "\n"
     ]
    },
    {
     "name": "stdout",
     "output_type": "stream",
     "text": [
      "epsilon 2 is done\n",
      "starting epsilon 3\n",
      "the area of building B302030807 is 273.51458448111305 m2\n",
      "{'co2': 0, 'monetary': 1}\n"
     ]
    },
    {
     "name": "stderr",
     "output_type": "stream",
     "text": [
      "C:\\Users\\wangy\\miniforge3\\envs\\calliope\\lib\\site-packages\\calliope\\exceptions.py:60: ModelWarning:\n",
      "\n",
      "Possible issues found during model processing:\n",
      " * Monetary cost class with a weight of 1 is still included in the objective. If you want to remove the monetary cost class, add `{\"monetary\": 0}` to the dictionary nested under  `run.objective_options.cost_class`.\n",
      "\n",
      "C:\\Users\\wangy\\miniforge3\\envs\\calliope\\lib\\site-packages\\calliope\\exceptions.py:60: ModelWarning:\n",
      "\n",
      "Possible issues found during model processing:\n",
      " * Integer and / or binary decision variables are included in this model. This may adversely affect solution time, particularly if you are using a non-commercial solver. To improve solution time, consider changing MILP related solver options (e.g. `mipgap`) or removing MILP constraints.\n",
      "\n"
     ]
    },
    {
     "name": "stdout",
     "output_type": "stream",
     "text": [
      "epsilon 3 is done\n",
      "starting epsilon 4\n",
      "the area of building B302030807 is 273.51458448111305 m2\n",
      "{'co2': 0, 'monetary': 1}\n"
     ]
    },
    {
     "name": "stderr",
     "output_type": "stream",
     "text": [
      "C:\\Users\\wangy\\miniforge3\\envs\\calliope\\lib\\site-packages\\calliope\\exceptions.py:60: ModelWarning:\n",
      "\n",
      "Possible issues found during model processing:\n",
      " * Monetary cost class with a weight of 1 is still included in the objective. If you want to remove the monetary cost class, add `{\"monetary\": 0}` to the dictionary nested under  `run.objective_options.cost_class`.\n",
      "\n",
      "C:\\Users\\wangy\\miniforge3\\envs\\calliope\\lib\\site-packages\\calliope\\exceptions.py:60: ModelWarning:\n",
      "\n",
      "Possible issues found during model processing:\n",
      " * Integer and / or binary decision variables are included in this model. This may adversely affect solution time, particularly if you are using a non-commercial solver. To improve solution time, consider changing MILP related solver options (e.g. `mipgap`) or removing MILP constraints.\n",
      "\n"
     ]
    },
    {
     "name": "stdout",
     "output_type": "stream",
     "text": [
      "epsilon 4 is done\n",
      "starting epsilon 5\n",
      "the area of building B302030807 is 273.51458448111305 m2\n",
      "{'co2': 0, 'monetary': 1}\n"
     ]
    },
    {
     "name": "stderr",
     "output_type": "stream",
     "text": [
      "C:\\Users\\wangy\\miniforge3\\envs\\calliope\\lib\\site-packages\\calliope\\exceptions.py:60: ModelWarning:\n",
      "\n",
      "Possible issues found during model processing:\n",
      " * Monetary cost class with a weight of 1 is still included in the objective. If you want to remove the monetary cost class, add `{\"monetary\": 0}` to the dictionary nested under  `run.objective_options.cost_class`.\n",
      "\n",
      "C:\\Users\\wangy\\miniforge3\\envs\\calliope\\lib\\site-packages\\calliope\\exceptions.py:60: ModelWarning:\n",
      "\n",
      "Possible issues found during model processing:\n",
      " * Integer and / or binary decision variables are included in this model. This may adversely affect solution time, particularly if you are using a non-commercial solver. To improve solution time, consider changing MILP related solver options (e.g. `mipgap`) or removing MILP constraints.\n",
      "\n"
     ]
    },
    {
     "name": "stdout",
     "output_type": "stream",
     "text": [
      "epsilon 5 is done\n",
      "starting epsilon 6\n",
      "the area of building B302030807 is 273.51458448111305 m2\n",
      "{'co2': 0, 'monetary': 1}\n"
     ]
    },
    {
     "name": "stderr",
     "output_type": "stream",
     "text": [
      "C:\\Users\\wangy\\miniforge3\\envs\\calliope\\lib\\site-packages\\calliope\\exceptions.py:60: ModelWarning:\n",
      "\n",
      "Possible issues found during model processing:\n",
      " * Monetary cost class with a weight of 1 is still included in the objective. If you want to remove the monetary cost class, add `{\"monetary\": 0}` to the dictionary nested under  `run.objective_options.cost_class`.\n",
      "\n",
      "C:\\Users\\wangy\\miniforge3\\envs\\calliope\\lib\\site-packages\\calliope\\exceptions.py:60: ModelWarning:\n",
      "\n",
      "Possible issues found during model processing:\n",
      " * Integer and / or binary decision variables are included in this model. This may adversely affect solution time, particularly if you are using a non-commercial solver. To improve solution time, consider changing MILP related solver options (e.g. `mipgap`) or removing MILP constraints.\n",
      "\n"
     ]
    },
    {
     "name": "stdout",
     "output_type": "stream",
     "text": [
      "epsilon 6 is done\n",
      "starting epsilon 7\n",
      "the area of building B302030807 is 273.51458448111305 m2\n",
      "{'co2': 0, 'monetary': 1}\n"
     ]
    },
    {
     "name": "stderr",
     "output_type": "stream",
     "text": [
      "C:\\Users\\wangy\\miniforge3\\envs\\calliope\\lib\\site-packages\\calliope\\exceptions.py:60: ModelWarning:\n",
      "\n",
      "Possible issues found during model processing:\n",
      " * Monetary cost class with a weight of 1 is still included in the objective. If you want to remove the monetary cost class, add `{\"monetary\": 0}` to the dictionary nested under  `run.objective_options.cost_class`.\n",
      "\n",
      "C:\\Users\\wangy\\miniforge3\\envs\\calliope\\lib\\site-packages\\calliope\\exceptions.py:60: ModelWarning:\n",
      "\n",
      "Possible issues found during model processing:\n",
      " * Integer and / or binary decision variables are included in this model. This may adversely affect solution time, particularly if you are using a non-commercial solver. To improve solution time, consider changing MILP related solver options (e.g. `mipgap`) or removing MILP constraints.\n",
      "\n"
     ]
    },
    {
     "name": "stdout",
     "output_type": "stream",
     "text": [
      "epsilon 7 is done\n",
      "starting epsilon 8\n",
      "the area of building B302030807 is 273.51458448111305 m2\n",
      "{'co2': 0, 'monetary': 1}\n"
     ]
    },
    {
     "name": "stderr",
     "output_type": "stream",
     "text": [
      "C:\\Users\\wangy\\miniforge3\\envs\\calliope\\lib\\site-packages\\calliope\\exceptions.py:60: ModelWarning:\n",
      "\n",
      "Possible issues found during model processing:\n",
      " * Monetary cost class with a weight of 1 is still included in the objective. If you want to remove the monetary cost class, add `{\"monetary\": 0}` to the dictionary nested under  `run.objective_options.cost_class`.\n",
      "\n",
      "C:\\Users\\wangy\\miniforge3\\envs\\calliope\\lib\\site-packages\\calliope\\exceptions.py:60: ModelWarning:\n",
      "\n",
      "Possible issues found during model processing:\n",
      " * Integer and / or binary decision variables are included in this model. This may adversely affect solution time, particularly if you are using a non-commercial solver. To improve solution time, consider changing MILP related solver options (e.g. `mipgap`) or removing MILP constraints.\n",
      "\n"
     ]
    },
    {
     "name": "stdout",
     "output_type": "stream",
     "text": [
      "epsilon 8 is done\n",
      "starting epsilon 9\n",
      "the area of building B302030807 is 273.51458448111305 m2\n",
      "{'co2': 0, 'monetary': 1}\n"
     ]
    },
    {
     "name": "stderr",
     "output_type": "stream",
     "text": [
      "C:\\Users\\wangy\\miniforge3\\envs\\calliope\\lib\\site-packages\\calliope\\exceptions.py:60: ModelWarning:\n",
      "\n",
      "Possible issues found during model processing:\n",
      " * Monetary cost class with a weight of 1 is still included in the objective. If you want to remove the monetary cost class, add `{\"monetary\": 0}` to the dictionary nested under  `run.objective_options.cost_class`.\n",
      "\n",
      "C:\\Users\\wangy\\miniforge3\\envs\\calliope\\lib\\site-packages\\calliope\\exceptions.py:60: ModelWarning:\n",
      "\n",
      "Possible issues found during model processing:\n",
      " * Integer and / or binary decision variables are included in this model. This may adversely affect solution time, particularly if you are using a non-commercial solver. To improve solution time, consider changing MILP related solver options (e.g. `mipgap`) or removing MILP constraints.\n",
      "\n"
     ]
    },
    {
     "name": "stdout",
     "output_type": "stream",
     "text": [
      "epsilon 9 is done\n",
      "starting epsilon 10\n",
      "the area of building B302030807 is 273.51458448111305 m2\n",
      "{'co2': 0, 'monetary': 1}\n"
     ]
    },
    {
     "name": "stderr",
     "output_type": "stream",
     "text": [
      "C:\\Users\\wangy\\miniforge3\\envs\\calliope\\lib\\site-packages\\calliope\\exceptions.py:60: ModelWarning:\n",
      "\n",
      "Possible issues found during model processing:\n",
      " * Monetary cost class with a weight of 1 is still included in the objective. If you want to remove the monetary cost class, add `{\"monetary\": 0}` to the dictionary nested under  `run.objective_options.cost_class`.\n",
      "\n",
      "C:\\Users\\wangy\\miniforge3\\envs\\calliope\\lib\\site-packages\\calliope\\exceptions.py:60: ModelWarning:\n",
      "\n",
      "Possible issues found during model processing:\n",
      " * Integer and / or binary decision variables are included in this model. This may adversely affect solution time, particularly if you are using a non-commercial solver. To improve solution time, consider changing MILP related solver options (e.g. `mipgap`) or removing MILP constraints.\n",
      "\n"
     ]
    },
    {
     "name": "stdout",
     "output_type": "stream",
     "text": [
      "epsilon 10 is done\n"
     ]
    }
   ],
   "source": [
    "# get pareto front for building B302030807\n",
    "df_pareto = get_pareto_front(epsilon=10, building_name='B302030807', building_scenario_folder=scenario_folder, \n",
    "                                                 yaml_path='./data/technology/techs_plot8.yml', store_folder='./result_site_specific_2',\n",
    "                                                 building_status=zone_df.loc['B302030807'], flatten_spikes=True, flatten_percentile=0.98, \n",
    "                                                 to_lp=False, to_yaml=False)"
   ],
   "metadata": {
    "collapsed": false,
    "ExecuteTime": {
     "end_time": "2023-12-12T01:54:18.739158500Z",
     "start_time": "2023-12-12T01:48:22.177810300Z"
    }
   },
   "id": "b2d5770cf79bee5f"
  },
  {
   "cell_type": "code",
   "execution_count": 143,
   "outputs": [
    {
     "name": "stdout",
     "output_type": "stream",
     "text": [
      "B302011886 doesn't need heating\n",
      "B302012803 doesn't need heating\n",
      "B302024094 doesn't need heating\n",
      "B302013071 doesn't need heating\n",
      "B302024327 doesn't need heating\n",
      "B302011676 doesn't need heating\n",
      "B302060757 doesn't need heating\n",
      "B302024344 doesn't need heating\n",
      "B302011740 doesn't need heating\n",
      "B302024101 doesn't need heating\n",
      "B302011894 doesn't need heating\n",
      "B302011958 doesn't need heating\n",
      "B302024497 doesn't need heating\n",
      "B302012074 doesn't need heating\n",
      "B302023896 doesn't need heating\n",
      "B302019762 doesn't need heating\n",
      "B302024165 doesn't need heating\n",
      "B302024143 doesn't need heating\n",
      "B302012488 doesn't need heating\n",
      "B302011910 doesn't need heating\n",
      "B302023917 doesn't need heating\n",
      "B302021222 doesn't need heating\n",
      "B302011957 doesn't need heating\n",
      "B302060601 doesn't need heating\n",
      "B302012080 doesn't need heating\n",
      "B302024335 doesn't need heating\n",
      "B302011995 doesn't need heating\n",
      "B302012558 doesn't need heating\n",
      "B302024134 doesn't need heating\n",
      "B302012555 doesn't need heating\n",
      "B302024146 doesn't need heating\n",
      "B302012481 doesn't need heating\n",
      "B302012172 doesn't need heating\n",
      "the area of building B302030807 is 273.51458448111305 m2\n"
     ]
    },
    {
     "name": "stderr",
     "output_type": "stream",
     "text": [
      "C:\\Users\\wangy\\miniforge3\\envs\\calliope\\lib\\site-packages\\calliope\\exceptions.py:60: ModelWarning:\n",
      "\n",
      "Possible issues found during model processing:\n",
      " * Monetary cost class with a weight of 1 is still included in the objective. If you want to remove the monetary cost class, add `{\"monetary\": 0}` to the dictionary nested under  `run.objective_options.cost_class`.\n",
      "\n",
      "C:\\Users\\wangy\\miniforge3\\envs\\calliope\\lib\\site-packages\\calliope\\exceptions.py:60: ModelWarning:\n",
      "\n",
      "Possible issues found during model processing:\n",
      " * Integer and / or binary decision variables are included in this model. This may adversely affect solution time, particularly if you are using a non-commercial solver. To improve solution time, consider changing MILP related solver options (e.g. `mipgap`) or removing MILP constraints.\n",
      "\n",
      "WARNING:pyomo.core:Filename './result_site_specific_2/B302030807.lp' likely does not match specified file format (lp)\n"
     ]
    },
    {
     "name": "stdout",
     "output_type": "stream",
     "text": [
      "including B302030807, 2.45% of the buildings are done\n"
     ]
    },
    {
     "ename": "NameError",
     "evalue": "name 'building' is not defined",
     "output_type": "error",
     "traceback": [
      "\u001B[1;31m---------------------------------------------------------------------------\u001B[0m",
      "\u001B[1;31mNameError\u001B[0m                                 Traceback (most recent call last)",
      "Cell \u001B[1;32mIn[143], line 29\u001B[0m\n\u001B[0;32m     27\u001B[0m \u001B[38;5;28;01mdel\u001B[39;00m model\n\u001B[0;32m     28\u001B[0m \u001B[38;5;66;03m# also delete the instance and the timeseries dataframes to save memory\u001B[39;00m\n\u001B[1;32m---> 29\u001B[0m \u001B[38;5;28;01mdel\u001B[39;00m building\n\u001B[0;32m     30\u001B[0m \u001B[38;5;28;01mdel\u001B[39;00m dict_timeseries_df\n\u001B[0;32m     31\u001B[0m \u001B[38;5;66;03m# clean up the rest of the memory\u001B[39;00m\n",
      "\u001B[1;31mNameError\u001B[0m: name 'building' is not defined"
     ]
    }
   ],
   "source": [
    "# optimize the building one by one and store them in result_per_building as netcdf files\n",
    "for idx, row in zone_df.iterrows():\n",
    "    # if building already in building_list, skip it\n",
    "    if idx not in building_list:\n",
    "        continue\n",
    "        \n",
    "    # if building doesn't need heating, skip it\n",
    "    if row['no_heat']:\n",
    "        print(idx+' doesn\\'t need heating')\n",
    "        continue\n",
    "        \n",
    "    # if building not in test_building_list, skip it\n",
    "    if idx not in test_building_list:\n",
    "        continue\n",
    "    # if building is not in district heating area, skip it\n",
    "    model = get_building_model(building_name=idx, building_scenario_folder=scenario_folder, \n",
    "                               yaml_path='./data/technology/techs_plot8.yml', store_folder='./result_site_specific_2',\n",
    "                               building_status=row, flatten_spikes=True, flatten_percentile=0.98, to_lp=True, to_yaml=True, emission_constraint=None)\n",
    "    model.run()\n",
    "    # save to result_per_building, which is a subfolder of current working directory\n",
    "    model.to_netcdf(path='./result_site_specific_2/'+idx+'.nc')\n",
    "    # calculate how many percent of the buildings are done, including the current one and its name\n",
    "    # calculate how many .nc files are in the subfolder, but some files are not .nc files, so len(os.listdir()) is not accurate\n",
    "    number_of_nc_files = len(glob.glob('./result_site_specific_2/*.nc'))\n",
    "    print('including '+idx+', '+str(round(number_of_nc_files/len(zone_df.index)*100, 2))+'% of the buildings are done')\n",
    "    \n",
    "    del model\n",
    "    # also delete the instance and the timeseries dataframes to save memory\n",
    "    del building\n",
    "    del dict_timeseries_df\n",
    "    # clean up the rest of the memory\n",
    "    gc.collect()"
   ],
   "metadata": {
    "collapsed": false,
    "ExecuteTime": {
     "end_time": "2023-12-12T00:50:36.371498Z",
     "start_time": "2023-12-12T00:49:57.317586400Z"
    }
   },
   "id": "c9b328fe764ca48"
  },
  {
   "cell_type": "code",
   "execution_count": 131,
   "outputs": [
    {
     "name": "stdout",
     "output_type": "stream",
     "text": [
      "B302011886 doesn't need heating\n",
      "B302012803 doesn't need heating\n",
      "B302024094 doesn't need heating\n",
      "B302013071 doesn't need heating\n",
      "B302024327 doesn't need heating\n",
      "B302011676 doesn't need heating\n",
      "B302060757 doesn't need heating\n",
      "B302024344 doesn't need heating\n",
      "B302011740 doesn't need heating\n",
      "B302024101 doesn't need heating\n",
      "B302011894 doesn't need heating\n",
      "B302011958 doesn't need heating\n",
      "B302024497 doesn't need heating\n",
      "B302012074 doesn't need heating\n",
      "B302023896 doesn't need heating\n",
      "B302019762 doesn't need heating\n",
      "B302024165 doesn't need heating\n",
      "B302024143 doesn't need heating\n",
      "B302012488 doesn't need heating\n",
      "B302011910 doesn't need heating\n",
      "B302023917 doesn't need heating\n",
      "B302021222 doesn't need heating\n",
      "B302011957 doesn't need heating\n",
      "B302060601 doesn't need heating\n",
      "B302012080 doesn't need heating\n",
      "B302024335 doesn't need heating\n",
      "B302011995 doesn't need heating\n",
      "B302012558 doesn't need heating\n",
      "B302024134 doesn't need heating\n",
      "B302012555 doesn't need heating\n",
      "B302024146 doesn't need heating\n",
      "B302012481 doesn't need heating\n",
      "B302012172 doesn't need heating\n",
      "the area of building B302030807 is 273.51458448111305 m2\n"
     ]
    },
    {
     "name": "stderr",
     "output_type": "stream",
     "text": [
      "C:\\Users\\wangy\\miniforge3\\envs\\calliope\\lib\\site-packages\\calliope\\exceptions.py:60: ModelWarning:\n",
      "\n",
      "Possible issues found during model processing:\n",
      " * Integer and / or binary decision variables are included in this model. This may adversely affect solution time, particularly if you are using a non-commercial solver. To improve solution time, consider changing MILP related solver options (e.g. `mipgap`) or removing MILP constraints.\n",
      "\n",
      "WARNING:pyomo.core:Filename './result_site_specific_2/B302030807.lp' likely does not match specified file format (lp)\n"
     ]
    },
    {
     "name": "stdout",
     "output_type": "stream",
     "text": [
      "including B302030807, 2.45% of the buildings are done\n",
      "B302023923 doesn't need heating\n",
      "B302011895 doesn't need heating\n",
      "B302024088 doesn't need heating\n",
      "B302023895 doesn't need heating\n",
      "B302066213 doesn't need heating\n",
      "B302024147 doesn't need heating\n",
      "B302024345 doesn't need heating\n",
      "B302062591 doesn't need heating\n",
      "B302012262 doesn't need heating\n",
      "B302011847 doesn't need heating\n",
      "B302024106 doesn't need heating\n",
      "B302011825 doesn't need heating\n",
      "B302013030 doesn't need heating\n",
      "B3020659791 doesn't need heating\n"
     ]
    }
   ],
   "source": [
    "    building = Building(idx, scenario_folder)\n",
    "    building.flatten_spikes_demand(percentile=0.98) # flatten the demand spikes\n",
    "    dict_timeseries_df = {'demand_el': building.app,\n",
    "                          'demand_sh': building.sh,\n",
    "                          'demand_dhw': building.dhw,\n",
    "                          'demand_sc': building.sc,\n",
    "                          'supply_PV': building.pv_intensity,\n",
    "                          'supply_PVT_e': building.pvt_e_intensity,\n",
    "                          'supply_PVT_h': building.pvt_h_relative_intensity,\n",
    "                          'supply_SCFP': building.scfp_intensity\n",
    "                          }\n",
    "    # modify the building_specific_config to match the building's status\n",
    "    building_specific_config: calliope.AttrDict = calliope.AttrDict.from_yaml('./data/technology/techs_plot8.yml')\n",
    "    building_specific_config.set_key(key='locations.Building.available_area', value=building.area)\n",
    "    print('the area of building '+building.name+' is '+str(building.area)+' m2')\n",
    "    building_sub_dict = building_specific_config['locations'].pop('Building')\n",
    "    building_specific_config['locations'][building.name] = building_sub_dict\n",
    "    \n",
    "    # update geothermal storage max capacity\n",
    "    building_specific_config.set_key(key=f'locations.{building.name}.techs.geothermal_boreholes.constraints.energy_cap_max',\n",
    "                                     value=(building.area+400)*0.1) # assume 100W/m2 max yield\n",
    "    # if building is not in district heating area, delete the district heating technologies keys\n",
    "    if not row['is_disheat']:\n",
    "        building_specific_config.del_key(f'locations.{building.name}.techs.DHDC_small_heat')\n",
    "        building_specific_config.del_key(f'locations.{building.name}.techs.DHDC_medium_heat')\n",
    "        building_specific_config.del_key(f'locations.{building.name}.techs.DHDC_large_heat')\n",
    "    \n",
    "    # if building is already equipped with GSHP, set the GSHP purchase cost to 0\n",
    "    if row['already_GSHP']:\n",
    "        building_specific_config.set_key(f'locations.{building.name}.techs.GSHP_heat.costs.monetary.purchase', 0)\n",
    "        building_specific_config.set_key(f'locations.{building.name}.techs.GSHP_heat.costs.monetary.energy_cap', 0)\n",
    "        \n",
    "    # if building is already equipped with ASHP, set the ASHP purchase cost to 0\n",
    "    if row['already_ASHP']:\n",
    "        building_specific_config.set_key(f'locations.{building.name}.techs.ASHP.costs.monetary.purchase', 0)\n",
    "        building_specific_config.set_key(f'locations.{building.name}.techs.ASHP.costs.monetary.energy_cap', 0)\n",
    "    \n",
    "    # if building is not rebuilt, set GSHP and ASHP costs higher\n",
    "    if not row['is_rebuilt']:\n",
    "        if not row['already_GSHP']:\n",
    "            building_specific_config.set_key(f'locations.{building.name}.techs.GSHP_heat.costs.monetary.purchase', 39934)\n",
    "            building_specific_config.set_key(f'locations.{building.name}.techs.GSHP_heat.costs.monetary.energy_cap', 1316)\n",
    "        if not row['already_ASHP']:\n",
    "            building_specific_config.set_key(f'locations.{building.name}.techs.ASHP.costs.monetary.purchase', 18086)\n",
    "            building_specific_config.set_key(f'locations.{building.name}.techs.ASHP.costs.monetary.energy_cap', 1360)\n",
    "            \n",
    "        # if building is not new, delete the GSHP technology keys\n",
    "    if not row['is_new']:\n",
    "        building_specific_config.del_key(f'locations.{building.name}.techs.GSHP_heat')\n",
    "        building_specific_config.del_key(f'locations.{building.name}.techs.GSHP_cooling')\n",
    "        building_specific_config.del_key(f'locations.{building.name}.techs.geothermal_boreholes')\n",
    "            \n",
    "    # # test: delete ASHP\n",
    "    # building_specific_config.del_key(f'locations.{building.name}.techs.ASHP')        \n",
    "    \n",
    "    model = calliope.Model(building_specific_config, timeseries_dataframes=dict_timeseries_df)\n",
    "    model.to_lp('./result_site_specific_2/'+building.name+'.lp')\n",
    "    model.run()\n",
    "    model.save_commented_model_yaml('./result_site_specific_2/'+building.name+'.yaml')\n",
    "    # save to result_per_building, which is a subfolder of current working directory\n",
    "    model.to_netcdf(path='./result_site_specific_2/'+building.name+'.nc')\n",
    "    # calculate how many percent of the buildings are done, including the current one and its name\n",
    "    # calculate how many .nc files are in the subfolder, but some files are not .nc files, so len(os.listdir()) is not accurate\n",
    "    number_of_nc_files = len(glob.glob('./result_site_specific_2/*.nc'))\n",
    "    print('including '+building.name+', '+str(round(number_of_nc_files/len(zone_df.index)*100, 2))+'% of the buildings are done')\n",
    "    \n",
    "    del model\n",
    "    # also delete the instance and the timeseries dataframes to save memory\n",
    "    del building\n",
    "    del dict_timeseries_df\n",
    "    # clean up the rest of the memory\n",
    "    gc.collect()"
   ],
   "metadata": {
    "collapsed": false,
    "ExecuteTime": {
     "end_time": "2023-12-12T00:18:48.159877300Z",
     "start_time": "2023-12-12T00:17:51.462075700Z"
    }
   },
   "id": "1e224581ae576f79"
  },
  {
   "cell_type": "code",
   "execution_count": 158,
   "outputs": [],
   "source": [
    "# read all the netcdf files in the subfolder, for every building, find the capacity data of the optimal configuration for each building, and store them as a line in a dataframe\n",
    "energy_cap_df = pd.DataFrame()\n",
    "for file in os.listdir('./result_site_specific_2'):\n",
    "    if not file.endswith('.nc'):\n",
    "        continue\n",
    "    model = calliope.read_netcdf('./result_site_specific_2/'+file)\n",
    "    # add the building name as a row index, and all energy_cap values as a row, and don't use append because it's deprecated\n",
    "    # first define the column names\n",
    "    if energy_cap_df.empty:\n",
    "        energy_cap_df = pd.DataFrame(columns=model.get_formatted_array('energy_cap').to_pandas().columns)\n",
    "    # then add the row\n",
    "    energy_cap_df.loc[file[:-3]] = model.get_formatted_array('energy_cap').to_pandas().iloc[0]"
   ],
   "metadata": {
    "collapsed": false,
    "ExecuteTime": {
     "end_time": "2023-12-12T01:28:50.055913300Z",
     "start_time": "2023-12-12T01:28:48.419952Z"
    }
   },
   "id": "21bbdf79f3dc0b79"
  },
  {
   "cell_type": "code",
   "execution_count": 4,
   "outputs": [],
   "source": [
    "energy_cap_df = energy_cap_df.fillna(0)"
   ],
   "metadata": {
    "collapsed": false,
    "ExecuteTime": {
     "end_time": "2023-12-11T07:17:11.929161800Z",
     "start_time": "2023-12-11T07:17:08.165876Z"
    }
   },
   "id": "c561f1c3156c6290"
  },
  {
   "cell_type": "code",
   "execution_count": 19,
   "outputs": [],
   "source": [
    "# plot the histogram of PV cap per building area\n",
    "energy_cap_df['PV_area'] = energy_cap_df['PV'] * 7\n",
    "energy_cap_df['area'] = zone_gdf['area']"
   ],
   "metadata": {
    "collapsed": false,
    "ExecuteTime": {
     "end_time": "2023-12-11T07:24:39.017220500Z",
     "start_time": "2023-12-11T07:24:38.974053700Z"
    }
   },
   "id": "a9a3e95b389ee248"
  },
  {
   "cell_type": "code",
   "execution_count": 25,
   "outputs": [
    {
     "ename": "KeyError",
     "evalue": "'techs'",
     "output_type": "error",
     "traceback": [
      "\u001B[1;31m---------------------------------------------------------------------------\u001B[0m",
      "\u001B[1;31mKeyError\u001B[0m                                  Traceback (most recent call last)",
      "File \u001B[1;32m~\\miniforge3\\envs\\calliope\\lib\\site-packages\\pandas\\core\\indexes\\base.py:3802\u001B[0m, in \u001B[0;36mIndex.get_loc\u001B[1;34m(self, key, method, tolerance)\u001B[0m\n\u001B[0;32m   3801\u001B[0m \u001B[38;5;28;01mtry\u001B[39;00m:\n\u001B[1;32m-> 3802\u001B[0m     \u001B[38;5;28;01mreturn\u001B[39;00m \u001B[38;5;28;43mself\u001B[39;49m\u001B[38;5;241;43m.\u001B[39;49m\u001B[43m_engine\u001B[49m\u001B[38;5;241;43m.\u001B[39;49m\u001B[43mget_loc\u001B[49m\u001B[43m(\u001B[49m\u001B[43mcasted_key\u001B[49m\u001B[43m)\u001B[49m\n\u001B[0;32m   3803\u001B[0m \u001B[38;5;28;01mexcept\u001B[39;00m \u001B[38;5;167;01mKeyError\u001B[39;00m \u001B[38;5;28;01mas\u001B[39;00m err:\n",
      "File \u001B[1;32m~\\miniforge3\\envs\\calliope\\lib\\site-packages\\pandas\\_libs\\index.pyx:138\u001B[0m, in \u001B[0;36mpandas._libs.index.IndexEngine.get_loc\u001B[1;34m()\u001B[0m\n",
      "File \u001B[1;32m~\\miniforge3\\envs\\calliope\\lib\\site-packages\\pandas\\_libs\\index.pyx:165\u001B[0m, in \u001B[0;36mpandas._libs.index.IndexEngine.get_loc\u001B[1;34m()\u001B[0m\n",
      "File \u001B[1;32mpandas\\_libs\\hashtable_class_helper.pxi:5745\u001B[0m, in \u001B[0;36mpandas._libs.hashtable.PyObjectHashTable.get_item\u001B[1;34m()\u001B[0m\n",
      "File \u001B[1;32mpandas\\_libs\\hashtable_class_helper.pxi:5753\u001B[0m, in \u001B[0;36mpandas._libs.hashtable.PyObjectHashTable.get_item\u001B[1;34m()\u001B[0m\n",
      "\u001B[1;31mKeyError\u001B[0m: 'techs'",
      "\nThe above exception was the direct cause of the following exception:\n",
      "\u001B[1;31mKeyError\u001B[0m                                  Traceback (most recent call last)",
      "Cell \u001B[1;32mIn[25], line 1\u001B[0m\n\u001B[1;32m----> 1\u001B[0m \u001B[43menergy_cap_df\u001B[49m\u001B[43m[\u001B[49m\u001B[38;5;124;43m'\u001B[39;49m\u001B[38;5;124;43mtechs\u001B[39;49m\u001B[38;5;124;43m'\u001B[39;49m\u001B[43m]\u001B[49m\n",
      "File \u001B[1;32m~\\miniforge3\\envs\\calliope\\lib\\site-packages\\pandas\\core\\frame.py:3807\u001B[0m, in \u001B[0;36mDataFrame.__getitem__\u001B[1;34m(self, key)\u001B[0m\n\u001B[0;32m   3805\u001B[0m \u001B[38;5;28;01mif\u001B[39;00m \u001B[38;5;28mself\u001B[39m\u001B[38;5;241m.\u001B[39mcolumns\u001B[38;5;241m.\u001B[39mnlevels \u001B[38;5;241m>\u001B[39m \u001B[38;5;241m1\u001B[39m:\n\u001B[0;32m   3806\u001B[0m     \u001B[38;5;28;01mreturn\u001B[39;00m \u001B[38;5;28mself\u001B[39m\u001B[38;5;241m.\u001B[39m_getitem_multilevel(key)\n\u001B[1;32m-> 3807\u001B[0m indexer \u001B[38;5;241m=\u001B[39m \u001B[38;5;28;43mself\u001B[39;49m\u001B[38;5;241;43m.\u001B[39;49m\u001B[43mcolumns\u001B[49m\u001B[38;5;241;43m.\u001B[39;49m\u001B[43mget_loc\u001B[49m\u001B[43m(\u001B[49m\u001B[43mkey\u001B[49m\u001B[43m)\u001B[49m\n\u001B[0;32m   3808\u001B[0m \u001B[38;5;28;01mif\u001B[39;00m is_integer(indexer):\n\u001B[0;32m   3809\u001B[0m     indexer \u001B[38;5;241m=\u001B[39m [indexer]\n",
      "File \u001B[1;32m~\\miniforge3\\envs\\calliope\\lib\\site-packages\\pandas\\core\\indexes\\base.py:3804\u001B[0m, in \u001B[0;36mIndex.get_loc\u001B[1;34m(self, key, method, tolerance)\u001B[0m\n\u001B[0;32m   3802\u001B[0m     \u001B[38;5;28;01mreturn\u001B[39;00m \u001B[38;5;28mself\u001B[39m\u001B[38;5;241m.\u001B[39m_engine\u001B[38;5;241m.\u001B[39mget_loc(casted_key)\n\u001B[0;32m   3803\u001B[0m \u001B[38;5;28;01mexcept\u001B[39;00m \u001B[38;5;167;01mKeyError\u001B[39;00m \u001B[38;5;28;01mas\u001B[39;00m err:\n\u001B[1;32m-> 3804\u001B[0m     \u001B[38;5;28;01mraise\u001B[39;00m \u001B[38;5;167;01mKeyError\u001B[39;00m(key) \u001B[38;5;28;01mfrom\u001B[39;00m \u001B[38;5;21;01merr\u001B[39;00m\n\u001B[0;32m   3805\u001B[0m \u001B[38;5;28;01mexcept\u001B[39;00m \u001B[38;5;167;01mTypeError\u001B[39;00m:\n\u001B[0;32m   3806\u001B[0m     \u001B[38;5;66;03m# If we have a listlike key, _check_indexing_error will raise\u001B[39;00m\n\u001B[0;32m   3807\u001B[0m     \u001B[38;5;66;03m#  InvalidIndexError. Otherwise we fall through and re-raise\u001B[39;00m\n\u001B[0;32m   3808\u001B[0m     \u001B[38;5;66;03m#  the TypeError.\u001B[39;00m\n\u001B[0;32m   3809\u001B[0m     \u001B[38;5;28mself\u001B[39m\u001B[38;5;241m.\u001B[39m_check_indexing_error(key)\n",
      "\u001B[1;31mKeyError\u001B[0m: 'techs'"
     ]
    }
   ],
   "source": [
    "energy_cap_df['techs']"
   ],
   "metadata": {
    "collapsed": false,
    "ExecuteTime": {
     "end_time": "2023-12-11T07:44:22.162552Z",
     "start_time": "2023-12-11T07:44:22.070152900Z"
    }
   },
   "id": "3449be00f4fff2cf"
  },
  {
   "cell_type": "code",
   "execution_count": null,
   "outputs": [],
   "source": [
    "# plot the DHW_to_heat and wood_boiler_DHW fractions using df method\n",
    "energy_cap_df['fraction_DHW_to_heat'] = energy_cap_df['DHW_to_heat'] / energy_cap_df['wood_boiler_DHW']\n",
    "energy_cap_df.plot(y='fraction_DHW_to_heat', kind='hist', bins=100)\n"
   ],
   "metadata": {
    "collapsed": false
   },
   "id": "190d1ae7e6f40d7d"
  },
  {
   "cell_type": "code",
   "execution_count": 133,
   "outputs": [],
   "source": [
    "model = calliope.read_netcdf('./result_site_specific_2/B302030807.nc')"
   ],
   "metadata": {
    "collapsed": false,
    "ExecuteTime": {
     "end_time": "2023-12-12T00:19:54.174419900Z",
     "start_time": "2023-12-12T00:19:53.967698800Z"
    }
   },
   "id": "40122bea95fa623a"
  },
  {
   "cell_type": "code",
   "execution_count": 65,
   "outputs": [],
   "source": [
    "model_energy_cap = model.get_formatted_array('energy_cap').to_pandas().iloc[0]"
   ],
   "metadata": {
    "collapsed": false,
    "ExecuteTime": {
     "end_time": "2023-12-11T19:43:24.227377600Z",
     "start_time": "2023-12-11T19:43:24.188703500Z"
    }
   },
   "id": "ef1200ee07c011e0"
  },
  {
   "cell_type": "code",
   "execution_count": null,
   "outputs": [],
   "source": [
    "model.inputs.cost_purchase.to_pandas().dropna(axis=1)"
   ],
   "metadata": {
    "collapsed": false
   },
   "id": "19effdb72d477eb5"
  },
  {
   "cell_type": "code",
   "execution_count": null,
   "outputs": [],
   "source": [
    "model.inputs.cost_energy_cap.to_pandas().dropna(axis=1)"
   ],
   "metadata": {
    "collapsed": false
   },
   "id": "470b59766fa650cc"
  },
  {
   "cell_type": "code",
   "execution_count": null,
   "outputs": [],
   "source": [
    "model.plot.timeseries()"
   ],
   "metadata": {
    "collapsed": false
   },
   "id": "402cdf61d0de1dcd"
  },
  {
   "cell_type": "code",
   "execution_count": 134,
   "outputs": [
    {
     "data": {
      "text/plain": "<xarray.Dataset>\nDimensions:                                 (loc_techs: 18,\n                                             loc_tech_carriers_prod: 16,\n                                             timesteps: 1460,\n                                             loc_tech_carriers_con: 15,\n                                             costs: 2, loc_techs_cost: 14,\n                                             loc_techs_area: 2,\n                                             ...\n                                             loc_techs_investment_cost: 12,\n                                             loc_techs_purchase: 6,\n                                             loc_techs_cost_investment_constraint: 12,\n                                             loc_carriers_system_balance_constraint: 6,\n                                             loc_techs_balance_demand_constraint: 4,\n                                             carriers: 6, techs: 25)\nCoordinates: (12/17)\n  * techs                                   (techs) object 'ASHP' ... 'wood_s...\n  * carriers                                (carriers) object 'DHW' ... 'wood'\n  * costs                                   (costs) object 'co2' 'monetary'\n  * loc_carriers_system_balance_constraint  (loc_carriers_system_balance_constraint) object ...\n  * loc_tech_carriers_con                   (loc_tech_carriers_con) object 'B...\n  * loc_tech_carriers_export                (loc_tech_carriers_export) object ...\n    ...                                      ...\n  * loc_techs_cost_investment_constraint    (loc_techs_cost_investment_constraint) object ...\n  * loc_techs_investment_cost               (loc_techs_investment_cost) object ...\n  * loc_techs_om_cost                       (loc_techs_om_cost) object 'B3020...\n  * loc_techs_purchase                      (loc_techs_purchase) object 'B302...\n  * loc_techs_store                         (loc_techs_store) object 'B302030...\n  * timesteps                               (timesteps) datetime64[ns] 2050-0...\nData variables: (12/19)\n    energy_cap                              (loc_techs) float64 67.35 ... 23.63\n    carrier_prod                            (loc_tech_carriers_prod, timesteps) float64 ...\n    carrier_con                             (loc_tech_carriers_con, timesteps) float64 ...\n    cost                                    (costs, loc_techs_cost) float64 7...\n    resource_area                           (loc_techs_area) float64 273.5 0.0\n    storage_cap                             (loc_techs_store) float64 0.0 ......\n    ...                                      ...\n    system_balance                          (loc_carriers_system_balance_constraint, timesteps) float64 ...\n    required_resource                       (loc_techs_balance_demand_constraint, timesteps) float64 ...\n    capacity_factor                         (timesteps, loc_tech_carriers_prod) float64 ...\n    systemwide_capacity_factor              (carriers, techs) float64 0.0 ......\n    systemwide_levelised_cost               (carriers, costs, techs) float64 ...\n    total_levelised_cost                    (carriers, costs) float64 0.1722 ...\nAttributes:\n    termination_condition:     optimal\n    objective_function_value:  8017.432229433613\n    solution_time:             9.57991\n    time_finished:             2023-12-12 01:18:24\n    calliope_version:          0.6.10\n    applied_overrides:         \n    scenario:                  None\n    defaults:                  carrier_ratios:\\ncharge_rate:\\nenergy_cap_per_...\n    allow_operate_mode:        1\n    model_config:              calliope_version: 0.6.10\\nname: building in pl...\n    run_config:                backend: pyomo\\nbigM: 100000000.0\\ncyclic_stor...",
      "text/html": "<div><svg style=\"position: absolute; width: 0; height: 0; overflow: hidden\">\n<defs>\n<symbol id=\"icon-database\" viewBox=\"0 0 32 32\">\n<path d=\"M16 0c-8.837 0-16 2.239-16 5v4c0 2.761 7.163 5 16 5s16-2.239 16-5v-4c0-2.761-7.163-5-16-5z\"></path>\n<path d=\"M16 17c-8.837 0-16-2.239-16-5v6c0 2.761 7.163 5 16 5s16-2.239 16-5v-6c0 2.761-7.163 5-16 5z\"></path>\n<path d=\"M16 26c-8.837 0-16-2.239-16-5v6c0 2.761 7.163 5 16 5s16-2.239 16-5v-6c0 2.761-7.163 5-16 5z\"></path>\n</symbol>\n<symbol id=\"icon-file-text2\" viewBox=\"0 0 32 32\">\n<path d=\"M28.681 7.159c-0.694-0.947-1.662-2.053-2.724-3.116s-2.169-2.030-3.116-2.724c-1.612-1.182-2.393-1.319-2.841-1.319h-15.5c-1.378 0-2.5 1.121-2.5 2.5v27c0 1.378 1.122 2.5 2.5 2.5h23c1.378 0 2.5-1.122 2.5-2.5v-19.5c0-0.448-0.137-1.23-1.319-2.841zM24.543 5.457c0.959 0.959 1.712 1.825 2.268 2.543h-4.811v-4.811c0.718 0.556 1.584 1.309 2.543 2.268zM28 29.5c0 0.271-0.229 0.5-0.5 0.5h-23c-0.271 0-0.5-0.229-0.5-0.5v-27c0-0.271 0.229-0.5 0.5-0.5 0 0 15.499-0 15.5 0v7c0 0.552 0.448 1 1 1h7v19.5z\"></path>\n<path d=\"M23 26h-14c-0.552 0-1-0.448-1-1s0.448-1 1-1h14c0.552 0 1 0.448 1 1s-0.448 1-1 1z\"></path>\n<path d=\"M23 22h-14c-0.552 0-1-0.448-1-1s0.448-1 1-1h14c0.552 0 1 0.448 1 1s-0.448 1-1 1z\"></path>\n<path d=\"M23 18h-14c-0.552 0-1-0.448-1-1s0.448-1 1-1h14c0.552 0 1 0.448 1 1s-0.448 1-1 1z\"></path>\n</symbol>\n</defs>\n</svg>\n<style>/* CSS stylesheet for displaying xarray objects in jupyterlab.\n *\n */\n\n:root {\n  --xr-font-color0: var(--jp-content-font-color0, rgba(0, 0, 0, 1));\n  --xr-font-color2: var(--jp-content-font-color2, rgba(0, 0, 0, 0.54));\n  --xr-font-color3: var(--jp-content-font-color3, rgba(0, 0, 0, 0.38));\n  --xr-border-color: var(--jp-border-color2, #e0e0e0);\n  --xr-disabled-color: var(--jp-layout-color3, #bdbdbd);\n  --xr-background-color: var(--jp-layout-color0, white);\n  --xr-background-color-row-even: var(--jp-layout-color1, white);\n  --xr-background-color-row-odd: var(--jp-layout-color2, #eeeeee);\n}\n\nhtml[theme=dark],\nbody.vscode-dark {\n  --xr-font-color0: rgba(255, 255, 255, 1);\n  --xr-font-color2: rgba(255, 255, 255, 0.54);\n  --xr-font-color3: rgba(255, 255, 255, 0.38);\n  --xr-border-color: #1F1F1F;\n  --xr-disabled-color: #515151;\n  --xr-background-color: #111111;\n  --xr-background-color-row-even: #111111;\n  --xr-background-color-row-odd: #313131;\n}\n\n.xr-wrap {\n  display: block !important;\n  min-width: 300px;\n  max-width: 700px;\n}\n\n.xr-text-repr-fallback {\n  /* fallback to plain text repr when CSS is not injected (untrusted notebook) */\n  display: none;\n}\n\n.xr-header {\n  padding-top: 6px;\n  padding-bottom: 6px;\n  margin-bottom: 4px;\n  border-bottom: solid 1px var(--xr-border-color);\n}\n\n.xr-header > div,\n.xr-header > ul {\n  display: inline;\n  margin-top: 0;\n  margin-bottom: 0;\n}\n\n.xr-obj-type,\n.xr-array-name {\n  margin-left: 2px;\n  margin-right: 10px;\n}\n\n.xr-obj-type {\n  color: var(--xr-font-color2);\n}\n\n.xr-sections {\n  padding-left: 0 !important;\n  display: grid;\n  grid-template-columns: 150px auto auto 1fr 20px 20px;\n}\n\n.xr-section-item {\n  display: contents;\n}\n\n.xr-section-item input {\n  display: none;\n}\n\n.xr-section-item input + label {\n  color: var(--xr-disabled-color);\n}\n\n.xr-section-item input:enabled + label {\n  cursor: pointer;\n  color: var(--xr-font-color2);\n}\n\n.xr-section-item input:enabled + label:hover {\n  color: var(--xr-font-color0);\n}\n\n.xr-section-summary {\n  grid-column: 1;\n  color: var(--xr-font-color2);\n  font-weight: 500;\n}\n\n.xr-section-summary > span {\n  display: inline-block;\n  padding-left: 0.5em;\n}\n\n.xr-section-summary-in:disabled + label {\n  color: var(--xr-font-color2);\n}\n\n.xr-section-summary-in + label:before {\n  display: inline-block;\n  content: '►';\n  font-size: 11px;\n  width: 15px;\n  text-align: center;\n}\n\n.xr-section-summary-in:disabled + label:before {\n  color: var(--xr-disabled-color);\n}\n\n.xr-section-summary-in:checked + label:before {\n  content: '▼';\n}\n\n.xr-section-summary-in:checked + label > span {\n  display: none;\n}\n\n.xr-section-summary,\n.xr-section-inline-details {\n  padding-top: 4px;\n  padding-bottom: 4px;\n}\n\n.xr-section-inline-details {\n  grid-column: 2 / -1;\n}\n\n.xr-section-details {\n  display: none;\n  grid-column: 1 / -1;\n  margin-bottom: 5px;\n}\n\n.xr-section-summary-in:checked ~ .xr-section-details {\n  display: contents;\n}\n\n.xr-array-wrap {\n  grid-column: 1 / -1;\n  display: grid;\n  grid-template-columns: 20px auto;\n}\n\n.xr-array-wrap > label {\n  grid-column: 1;\n  vertical-align: top;\n}\n\n.xr-preview {\n  color: var(--xr-font-color3);\n}\n\n.xr-array-preview,\n.xr-array-data {\n  padding: 0 5px !important;\n  grid-column: 2;\n}\n\n.xr-array-data,\n.xr-array-in:checked ~ .xr-array-preview {\n  display: none;\n}\n\n.xr-array-in:checked ~ .xr-array-data,\n.xr-array-preview {\n  display: inline-block;\n}\n\n.xr-dim-list {\n  display: inline-block !important;\n  list-style: none;\n  padding: 0 !important;\n  margin: 0;\n}\n\n.xr-dim-list li {\n  display: inline-block;\n  padding: 0;\n  margin: 0;\n}\n\n.xr-dim-list:before {\n  content: '(';\n}\n\n.xr-dim-list:after {\n  content: ')';\n}\n\n.xr-dim-list li:not(:last-child):after {\n  content: ',';\n  padding-right: 5px;\n}\n\n.xr-has-index {\n  font-weight: bold;\n}\n\n.xr-var-list,\n.xr-var-item {\n  display: contents;\n}\n\n.xr-var-item > div,\n.xr-var-item label,\n.xr-var-item > .xr-var-name span {\n  background-color: var(--xr-background-color-row-even);\n  margin-bottom: 0;\n}\n\n.xr-var-item > .xr-var-name:hover span {\n  padding-right: 5px;\n}\n\n.xr-var-list > li:nth-child(odd) > div,\n.xr-var-list > li:nth-child(odd) > label,\n.xr-var-list > li:nth-child(odd) > .xr-var-name span {\n  background-color: var(--xr-background-color-row-odd);\n}\n\n.xr-var-name {\n  grid-column: 1;\n}\n\n.xr-var-dims {\n  grid-column: 2;\n}\n\n.xr-var-dtype {\n  grid-column: 3;\n  text-align: right;\n  color: var(--xr-font-color2);\n}\n\n.xr-var-preview {\n  grid-column: 4;\n}\n\n.xr-var-name,\n.xr-var-dims,\n.xr-var-dtype,\n.xr-preview,\n.xr-attrs dt {\n  white-space: nowrap;\n  overflow: hidden;\n  text-overflow: ellipsis;\n  padding-right: 10px;\n}\n\n.xr-var-name:hover,\n.xr-var-dims:hover,\n.xr-var-dtype:hover,\n.xr-attrs dt:hover {\n  overflow: visible;\n  width: auto;\n  z-index: 1;\n}\n\n.xr-var-attrs,\n.xr-var-data {\n  display: none;\n  background-color: var(--xr-background-color) !important;\n  padding-bottom: 5px !important;\n}\n\n.xr-var-attrs-in:checked ~ .xr-var-attrs,\n.xr-var-data-in:checked ~ .xr-var-data {\n  display: block;\n}\n\n.xr-var-data > table {\n  float: right;\n}\n\n.xr-var-name span,\n.xr-var-data,\n.xr-attrs {\n  padding-left: 25px !important;\n}\n\n.xr-attrs,\n.xr-var-attrs,\n.xr-var-data {\n  grid-column: 1 / -1;\n}\n\ndl.xr-attrs {\n  padding: 0;\n  margin: 0;\n  display: grid;\n  grid-template-columns: 125px auto;\n}\n\n.xr-attrs dt,\n.xr-attrs dd {\n  padding: 0;\n  margin: 0;\n  float: left;\n  padding-right: 10px;\n  width: auto;\n}\n\n.xr-attrs dt {\n  font-weight: normal;\n  grid-column: 1;\n}\n\n.xr-attrs dt:hover span {\n  display: inline-block;\n  background: var(--xr-background-color);\n  padding-right: 10px;\n}\n\n.xr-attrs dd {\n  grid-column: 2;\n  white-space: pre-wrap;\n  word-break: break-all;\n}\n\n.xr-icon-database,\n.xr-icon-file-text2 {\n  display: inline-block;\n  vertical-align: middle;\n  width: 1em;\n  height: 1.5em !important;\n  stroke-width: 0;\n  stroke: currentColor;\n  fill: currentColor;\n}\n</style><pre class='xr-text-repr-fallback'>&lt;xarray.Dataset&gt;\nDimensions:                                 (loc_techs: 18,\n                                             loc_tech_carriers_prod: 16,\n                                             timesteps: 1460,\n                                             loc_tech_carriers_con: 15,\n                                             costs: 2, loc_techs_cost: 14,\n                                             loc_techs_area: 2,\n                                             ...\n                                             loc_techs_investment_cost: 12,\n                                             loc_techs_purchase: 6,\n                                             loc_techs_cost_investment_constraint: 12,\n                                             loc_carriers_system_balance_constraint: 6,\n                                             loc_techs_balance_demand_constraint: 4,\n                                             carriers: 6, techs: 25)\nCoordinates: (12/17)\n  * techs                                   (techs) object &#x27;ASHP&#x27; ... &#x27;wood_s...\n  * carriers                                (carriers) object &#x27;DHW&#x27; ... &#x27;wood&#x27;\n  * costs                                   (costs) object &#x27;co2&#x27; &#x27;monetary&#x27;\n  * loc_carriers_system_balance_constraint  (loc_carriers_system_balance_constraint) object ...\n  * loc_tech_carriers_con                   (loc_tech_carriers_con) object &#x27;B...\n  * loc_tech_carriers_export                (loc_tech_carriers_export) object ...\n    ...                                      ...\n  * loc_techs_cost_investment_constraint    (loc_techs_cost_investment_constraint) object ...\n  * loc_techs_investment_cost               (loc_techs_investment_cost) object ...\n  * loc_techs_om_cost                       (loc_techs_om_cost) object &#x27;B3020...\n  * loc_techs_purchase                      (loc_techs_purchase) object &#x27;B302...\n  * loc_techs_store                         (loc_techs_store) object &#x27;B302030...\n  * timesteps                               (timesteps) datetime64[ns] 2050-0...\nData variables: (12/19)\n    energy_cap                              (loc_techs) float64 67.35 ... 23.63\n    carrier_prod                            (loc_tech_carriers_prod, timesteps) float64 ...\n    carrier_con                             (loc_tech_carriers_con, timesteps) float64 ...\n    cost                                    (costs, loc_techs_cost) float64 7...\n    resource_area                           (loc_techs_area) float64 273.5 0.0\n    storage_cap                             (loc_techs_store) float64 0.0 ......\n    ...                                      ...\n    system_balance                          (loc_carriers_system_balance_constraint, timesteps) float64 ...\n    required_resource                       (loc_techs_balance_demand_constraint, timesteps) float64 ...\n    capacity_factor                         (timesteps, loc_tech_carriers_prod) float64 ...\n    systemwide_capacity_factor              (carriers, techs) float64 0.0 ......\n    systemwide_levelised_cost               (carriers, costs, techs) float64 ...\n    total_levelised_cost                    (carriers, costs) float64 0.1722 ...\nAttributes:\n    termination_condition:     optimal\n    objective_function_value:  8017.432229433613\n    solution_time:             9.57991\n    time_finished:             2023-12-12 01:18:24\n    calliope_version:          0.6.10\n    applied_overrides:         \n    scenario:                  None\n    defaults:                  carrier_ratios:\\ncharge_rate:\\nenergy_cap_per_...\n    allow_operate_mode:        1\n    model_config:              calliope_version: 0.6.10\\nname: building in pl...\n    run_config:                backend: pyomo\\nbigM: 100000000.0\\ncyclic_stor...</pre><div class='xr-wrap' style='display:none'><div class='xr-header'><div class='xr-obj-type'>xarray.Dataset</div></div><ul class='xr-sections'><li class='xr-section-item'><input id='section-1b747179-98d2-4c71-a092-09e77da9a02f' class='xr-section-summary-in' type='checkbox' disabled ><label for='section-1b747179-98d2-4c71-a092-09e77da9a02f' class='xr-section-summary'  title='Expand/collapse section'>Dimensions:</label><div class='xr-section-inline-details'><ul class='xr-dim-list'><li><span class='xr-has-index'>loc_techs</span>: 18</li><li><span class='xr-has-index'>loc_tech_carriers_prod</span>: 16</li><li><span class='xr-has-index'>timesteps</span>: 1460</li><li><span class='xr-has-index'>loc_tech_carriers_con</span>: 15</li><li><span class='xr-has-index'>costs</span>: 2</li><li><span class='xr-has-index'>loc_techs_cost</span>: 14</li><li><span class='xr-has-index'>loc_techs_area</span>: 2</li><li><span class='xr-has-index'>loc_techs_store</span>: 4</li><li><span class='xr-has-index'>loc_tech_carriers_export</span>: 1</li><li><span class='xr-has-index'>loc_techs_om_cost</span>: 4</li><li><span class='xr-has-index'>loc_techs_investment_cost</span>: 12</li><li><span class='xr-has-index'>loc_techs_purchase</span>: 6</li><li><span class='xr-has-index'>loc_techs_cost_investment_constraint</span>: 12</li><li><span class='xr-has-index'>loc_carriers_system_balance_constraint</span>: 6</li><li><span class='xr-has-index'>loc_techs_balance_demand_constraint</span>: 4</li><li><span class='xr-has-index'>carriers</span>: 6</li><li><span class='xr-has-index'>techs</span>: 25</li></ul></div><div class='xr-section-details'></div></li><li class='xr-section-item'><input id='section-9b41e1b6-a9b7-48d4-9875-c0ed4823089f' class='xr-section-summary-in' type='checkbox'  checked><label for='section-9b41e1b6-a9b7-48d4-9875-c0ed4823089f' class='xr-section-summary' >Coordinates: <span>(17)</span></label><div class='xr-section-inline-details'></div><div class='xr-section-details'><ul class='xr-var-list'><li class='xr-var-item'><div class='xr-var-name'><span class='xr-has-index'>techs</span></div><div class='xr-var-dims'>(techs)</div><div class='xr-var-dtype'>object</div><div class='xr-var-preview xr-preview'>&#x27;ASHP&#x27; &#x27;ASHP_DHW&#x27; ... &#x27;wood_supply&#x27;</div><input id='attrs-13ad2a85-7ed0-4147-a9d7-795ca0a6e835' class='xr-var-attrs-in' type='checkbox' disabled><label for='attrs-13ad2a85-7ed0-4147-a9d7-795ca0a6e835' title='Show/Hide attributes'><svg class='icon xr-icon-file-text2'><use xlink:href='#icon-file-text2'></use></svg></label><input id='data-21e9b983-9b93-49e9-ae72-414ace3be2c8' class='xr-var-data-in' type='checkbox'><label for='data-21e9b983-9b93-49e9-ae72-414ace3be2c8' title='Show/Hide data repr'><svg class='icon xr-icon-database'><use xlink:href='#icon-database'></use></svg></label><div class='xr-var-attrs'><dl class='xr-attrs'></dl></div><div class='xr-var-data'><pre>array([&#x27;ASHP&#x27;, &#x27;ASHP_DHW&#x27;, &#x27;DHDC_large_cooling&#x27;, &#x27;DHDC_large_heat&#x27;,\n       &#x27;DHDC_medium_cooling&#x27;, &#x27;DHDC_medium_heat&#x27;, &#x27;DHDC_small_cooling&#x27;,\n       &#x27;DHDC_small_heat&#x27;, &#x27;DHW_storage&#x27;, &#x27;DHW_to_heat&#x27;, &#x27;GSHP_cooling&#x27;,\n       &#x27;GSHP_heat&#x27;, &#x27;PV&#x27;, &#x27;SCFP&#x27;, &#x27;battery&#x27;, &#x27;demand_electricity&#x27;,\n       &#x27;demand_hot_water&#x27;, &#x27;demand_space_cooling&#x27;, &#x27;demand_space_heating&#x27;,\n       &#x27;geothermal_boreholes&#x27;, &#x27;grid&#x27;, &#x27;heat_storage&#x27;, &#x27;wood_boiler_DHW&#x27;,\n       &#x27;wood_boiler_heat&#x27;, &#x27;wood_supply&#x27;], dtype=object)</pre></div></li><li class='xr-var-item'><div class='xr-var-name'><span class='xr-has-index'>carriers</span></div><div class='xr-var-dims'>(carriers)</div><div class='xr-var-dtype'>object</div><div class='xr-var-preview xr-preview'>&#x27;DHW&#x27; &#x27;cooling&#x27; ... &#x27;heat&#x27; &#x27;wood&#x27;</div><input id='attrs-0113aff0-923f-4d3b-87bc-5d21edace0c7' class='xr-var-attrs-in' type='checkbox' disabled><label for='attrs-0113aff0-923f-4d3b-87bc-5d21edace0c7' title='Show/Hide attributes'><svg class='icon xr-icon-file-text2'><use xlink:href='#icon-file-text2'></use></svg></label><input id='data-a4c8aed5-108e-476d-9829-4a04aaa085e8' class='xr-var-data-in' type='checkbox'><label for='data-a4c8aed5-108e-476d-9829-4a04aaa085e8' title='Show/Hide data repr'><svg class='icon xr-icon-database'><use xlink:href='#icon-database'></use></svg></label><div class='xr-var-attrs'><dl class='xr-attrs'></dl></div><div class='xr-var-data'><pre>array([&#x27;DHW&#x27;, &#x27;cooling&#x27;, &#x27;electricity&#x27;, &#x27;geothermal_storage&#x27;, &#x27;heat&#x27;, &#x27;wood&#x27;],\n      dtype=object)</pre></div></li><li class='xr-var-item'><div class='xr-var-name'><span class='xr-has-index'>costs</span></div><div class='xr-var-dims'>(costs)</div><div class='xr-var-dtype'>object</div><div class='xr-var-preview xr-preview'>&#x27;co2&#x27; &#x27;monetary&#x27;</div><input id='attrs-3c2e2d26-5ad2-4535-892f-caa949afdb41' class='xr-var-attrs-in' type='checkbox' disabled><label for='attrs-3c2e2d26-5ad2-4535-892f-caa949afdb41' title='Show/Hide attributes'><svg class='icon xr-icon-file-text2'><use xlink:href='#icon-file-text2'></use></svg></label><input id='data-1e2d7010-4d79-4bae-89f4-086e154455d1' class='xr-var-data-in' type='checkbox'><label for='data-1e2d7010-4d79-4bae-89f4-086e154455d1' title='Show/Hide data repr'><svg class='icon xr-icon-database'><use xlink:href='#icon-database'></use></svg></label><div class='xr-var-attrs'><dl class='xr-attrs'></dl></div><div class='xr-var-data'><pre>array([&#x27;co2&#x27;, &#x27;monetary&#x27;], dtype=object)</pre></div></li><li class='xr-var-item'><div class='xr-var-name'><span class='xr-has-index'>loc_carriers_system_balance_constraint</span></div><div class='xr-var-dims'>(loc_carriers_system_balance_constraint)</div><div class='xr-var-dtype'>object</div><div class='xr-var-preview xr-preview'>&#x27;B302030807::electricity&#x27; ... &#x27;B...</div><input id='attrs-b6f7b157-ad80-4d21-bed3-4802493cdae7' class='xr-var-attrs-in' type='checkbox' disabled><label for='attrs-b6f7b157-ad80-4d21-bed3-4802493cdae7' title='Show/Hide attributes'><svg class='icon xr-icon-file-text2'><use xlink:href='#icon-file-text2'></use></svg></label><input id='data-a41f5a91-bafa-4a0e-873a-3c1f5890576f' class='xr-var-data-in' type='checkbox'><label for='data-a41f5a91-bafa-4a0e-873a-3c1f5890576f' title='Show/Hide data repr'><svg class='icon xr-icon-database'><use xlink:href='#icon-database'></use></svg></label><div class='xr-var-attrs'><dl class='xr-attrs'></dl></div><div class='xr-var-data'><pre>array([&#x27;B302030807::electricity&#x27;, &#x27;B302030807::wood&#x27;,\n       &#x27;B302030807::geothermal_storage&#x27;, &#x27;B302030807::heat&#x27;, &#x27;B302030807::DHW&#x27;,\n       &#x27;B302030807::cooling&#x27;], dtype=object)</pre></div></li><li class='xr-var-item'><div class='xr-var-name'><span class='xr-has-index'>loc_tech_carriers_con</span></div><div class='xr-var-dims'>(loc_tech_carriers_con)</div><div class='xr-var-dtype'>object</div><div class='xr-var-preview xr-preview'>&#x27;B302030807::geothermal_borehole...</div><input id='attrs-e8162862-67fa-4868-a8ee-71fd16ec54ca' class='xr-var-attrs-in' type='checkbox' disabled><label for='attrs-e8162862-67fa-4868-a8ee-71fd16ec54ca' title='Show/Hide attributes'><svg class='icon xr-icon-file-text2'><use xlink:href='#icon-file-text2'></use></svg></label><input id='data-4a9050c4-04a5-4d2c-a27c-286cc37d1d13' class='xr-var-data-in' type='checkbox'><label for='data-4a9050c4-04a5-4d2c-a27c-286cc37d1d13' title='Show/Hide data repr'><svg class='icon xr-icon-database'><use xlink:href='#icon-database'></use></svg></label><div class='xr-var-attrs'><dl class='xr-attrs'></dl></div><div class='xr-var-data'><pre>array([&#x27;B302030807::geothermal_boreholes::geothermal_storage&#x27;,\n       &#x27;B302030807::GSHP_cooling::electricity&#x27;,\n       &#x27;B302030807::demand_space_cooling::cooling&#x27;,\n       &#x27;B302030807::wood_boiler_heat::wood&#x27;, &#x27;B302030807::heat_storage::heat&#x27;,\n       &#x27;B302030807::GSHP_heat::geothermal_storage&#x27;,\n       &#x27;B302030807::ASHP::electricity&#x27;,\n       &#x27;B302030807::demand_space_heating::heat&#x27;,\n       &#x27;B302030807::DHW_storage::DHW&#x27;, &#x27;B302030807::ASHP_DHW::electricity&#x27;,\n       &#x27;B302030807::demand_electricity::electricity&#x27;,\n       &#x27;B302030807::GSHP_heat::electricity&#x27;,\n       &#x27;B302030807::demand_hot_water::DHW&#x27;, &#x27;B302030807::battery::electricity&#x27;,\n       &#x27;B302030807::wood_boiler_DHW::wood&#x27;], dtype=object)</pre></div></li><li class='xr-var-item'><div class='xr-var-name'><span class='xr-has-index'>loc_tech_carriers_export</span></div><div class='xr-var-dims'>(loc_tech_carriers_export)</div><div class='xr-var-dtype'>object</div><div class='xr-var-preview xr-preview'>&#x27;B302030807::PV::electricity&#x27;</div><input id='attrs-3b4c61d7-6b09-4d82-9c4a-50c74b0f8ad6' class='xr-var-attrs-in' type='checkbox' disabled><label for='attrs-3b4c61d7-6b09-4d82-9c4a-50c74b0f8ad6' title='Show/Hide attributes'><svg class='icon xr-icon-file-text2'><use xlink:href='#icon-file-text2'></use></svg></label><input id='data-83378ee9-960c-4771-ba97-26fa9f811b2b' class='xr-var-data-in' type='checkbox'><label for='data-83378ee9-960c-4771-ba97-26fa9f811b2b' title='Show/Hide data repr'><svg class='icon xr-icon-database'><use xlink:href='#icon-database'></use></svg></label><div class='xr-var-attrs'><dl class='xr-attrs'></dl></div><div class='xr-var-data'><pre>array([&#x27;B302030807::PV::electricity&#x27;], dtype=object)</pre></div></li><li class='xr-var-item'><div class='xr-var-name'><span class='xr-has-index'>loc_tech_carriers_prod</span></div><div class='xr-var-dims'>(loc_tech_carriers_prod)</div><div class='xr-var-dtype'>object</div><div class='xr-var-preview xr-preview'>&#x27;B302030807::geothermal_borehole...</div><input id='attrs-a39415d5-6fcd-481e-b276-62cd9838e61f' class='xr-var-attrs-in' type='checkbox' disabled><label for='attrs-a39415d5-6fcd-481e-b276-62cd9838e61f' title='Show/Hide attributes'><svg class='icon xr-icon-file-text2'><use xlink:href='#icon-file-text2'></use></svg></label><input id='data-a126fb35-d98d-4af8-a174-dc5a227ddc2b' class='xr-var-data-in' type='checkbox'><label for='data-a126fb35-d98d-4af8-a174-dc5a227ddc2b' title='Show/Hide data repr'><svg class='icon xr-icon-database'><use xlink:href='#icon-database'></use></svg></label><div class='xr-var-attrs'><dl class='xr-attrs'></dl></div><div class='xr-var-data'><pre>array([&#x27;B302030807::geothermal_boreholes::geothermal_storage&#x27;,\n       &#x27;B302030807::GSHP_heat::heat&#x27;, &#x27;B302030807::PV::electricity&#x27;,\n       &#x27;B302030807::grid::electricity&#x27;, &#x27;B302030807::SCFP::geothermal_storage&#x27;,\n       &#x27;B302030807::GSHP_cooling::geothermal_storage&#x27;,\n       &#x27;B302030807::wood_boiler_heat::heat&#x27;, &#x27;B302030807::heat_storage::heat&#x27;,\n       &#x27;B302030807::ASHP::heat&#x27;, &#x27;B302030807::wood_supply::wood&#x27;,\n       &#x27;B302030807::DHW_storage::DHW&#x27;, &#x27;B302030807::ASHP_DHW::DHW&#x27;,\n       &#x27;B302030807::ASHP::cooling&#x27;, &#x27;B302030807::wood_boiler_DHW::DHW&#x27;,\n       &#x27;B302030807::battery::electricity&#x27;, &#x27;B302030807::GSHP_cooling::cooling&#x27;],\n      dtype=object)</pre></div></li><li class='xr-var-item'><div class='xr-var-name'><span class='xr-has-index'>loc_techs</span></div><div class='xr-var-dims'>(loc_techs)</div><div class='xr-var-dtype'>object</div><div class='xr-var-preview xr-preview'>&#x27;B302030807::geothermal_borehole...</div><input id='attrs-0c81cdce-ddea-443a-b2e7-3835894fd0de' class='xr-var-attrs-in' type='checkbox' disabled><label for='attrs-0c81cdce-ddea-443a-b2e7-3835894fd0de' title='Show/Hide attributes'><svg class='icon xr-icon-file-text2'><use xlink:href='#icon-file-text2'></use></svg></label><input id='data-266009de-d404-4025-9afc-b0112bff15ee' class='xr-var-data-in' type='checkbox'><label for='data-266009de-d404-4025-9afc-b0112bff15ee' title='Show/Hide data repr'><svg class='icon xr-icon-database'><use xlink:href='#icon-database'></use></svg></label><div class='xr-var-attrs'><dl class='xr-attrs'></dl></div><div class='xr-var-data'><pre>array([&#x27;B302030807::geothermal_boreholes&#x27;, &#x27;B302030807::heat_storage&#x27;,\n       &#x27;B302030807::DHW_storage&#x27;, &#x27;B302030807::battery&#x27;,\n       &#x27;B302030807::GSHP_cooling&#x27;, &#x27;B302030807::PV&#x27;,\n       &#x27;B302030807::demand_electricity&#x27;, &#x27;B302030807::wood_boiler_heat&#x27;,\n       &#x27;B302030807::GSHP_heat&#x27;, &#x27;B302030807::grid&#x27;,\n       &#x27;B302030807::demand_hot_water&#x27;, &#x27;B302030807::wood_boiler_DHW&#x27;,\n       &#x27;B302030807::demand_space_cooling&#x27;, &#x27;B302030807::ASHP_DHW&#x27;,\n       &#x27;B302030807::ASHP&#x27;, &#x27;B302030807::SCFP&#x27;, &#x27;B302030807::wood_supply&#x27;,\n       &#x27;B302030807::demand_space_heating&#x27;], dtype=object)</pre></div></li><li class='xr-var-item'><div class='xr-var-name'><span class='xr-has-index'>loc_techs_area</span></div><div class='xr-var-dims'>(loc_techs_area)</div><div class='xr-var-dtype'>object</div><div class='xr-var-preview xr-preview'>&#x27;B302030807::PV&#x27; &#x27;B302030807::SCFP&#x27;</div><input id='attrs-d3e79c52-0e9f-4d04-86e8-eefeb4380863' class='xr-var-attrs-in' type='checkbox' disabled><label for='attrs-d3e79c52-0e9f-4d04-86e8-eefeb4380863' title='Show/Hide attributes'><svg class='icon xr-icon-file-text2'><use xlink:href='#icon-file-text2'></use></svg></label><input id='data-d186b731-d5ea-4299-b206-f528141dae35' class='xr-var-data-in' type='checkbox'><label for='data-d186b731-d5ea-4299-b206-f528141dae35' title='Show/Hide data repr'><svg class='icon xr-icon-database'><use xlink:href='#icon-database'></use></svg></label><div class='xr-var-attrs'><dl class='xr-attrs'></dl></div><div class='xr-var-data'><pre>array([&#x27;B302030807::PV&#x27;, &#x27;B302030807::SCFP&#x27;], dtype=object)</pre></div></li><li class='xr-var-item'><div class='xr-var-name'><span class='xr-has-index'>loc_techs_balance_demand_constraint</span></div><div class='xr-var-dims'>(loc_techs_balance_demand_constraint)</div><div class='xr-var-dtype'>object</div><div class='xr-var-preview xr-preview'>&#x27;B302030807::demand_electricity&#x27;...</div><input id='attrs-14271398-df1d-44e7-bf55-78b718146ff4' class='xr-var-attrs-in' type='checkbox' disabled><label for='attrs-14271398-df1d-44e7-bf55-78b718146ff4' title='Show/Hide attributes'><svg class='icon xr-icon-file-text2'><use xlink:href='#icon-file-text2'></use></svg></label><input id='data-2e87bba1-85f4-48eb-a314-37c4ce8565af' class='xr-var-data-in' type='checkbox'><label for='data-2e87bba1-85f4-48eb-a314-37c4ce8565af' title='Show/Hide data repr'><svg class='icon xr-icon-database'><use xlink:href='#icon-database'></use></svg></label><div class='xr-var-attrs'><dl class='xr-attrs'></dl></div><div class='xr-var-data'><pre>array([&#x27;B302030807::demand_electricity&#x27;, &#x27;B302030807::demand_hot_water&#x27;,\n       &#x27;B302030807::demand_space_heating&#x27;, &#x27;B302030807::demand_space_cooling&#x27;],\n      dtype=object)</pre></div></li><li class='xr-var-item'><div class='xr-var-name'><span class='xr-has-index'>loc_techs_cost</span></div><div class='xr-var-dims'>(loc_techs_cost)</div><div class='xr-var-dtype'>object</div><div class='xr-var-preview xr-preview'>&#x27;B302030807::PV&#x27; ... &#x27;B302030807...</div><input id='attrs-d2b1d822-8744-4901-895c-bb97b06f7556' class='xr-var-attrs-in' type='checkbox' disabled><label for='attrs-d2b1d822-8744-4901-895c-bb97b06f7556' title='Show/Hide attributes'><svg class='icon xr-icon-file-text2'><use xlink:href='#icon-file-text2'></use></svg></label><input id='data-8bc0bd6d-78f1-4a30-ac76-12aafdecfe44' class='xr-var-data-in' type='checkbox'><label for='data-8bc0bd6d-78f1-4a30-ac76-12aafdecfe44' title='Show/Hide data repr'><svg class='icon xr-icon-database'><use xlink:href='#icon-database'></use></svg></label><div class='xr-var-attrs'><dl class='xr-attrs'></dl></div><div class='xr-var-data'><pre>array([&#x27;B302030807::PV&#x27;, &#x27;B302030807::wood_boiler_heat&#x27;,\n       &#x27;B302030807::geothermal_boreholes&#x27;, &#x27;B302030807::GSHP_heat&#x27;,\n       &#x27;B302030807::grid&#x27;, &#x27;B302030807::wood_boiler_DHW&#x27;,\n       &#x27;B302030807::GSHP_cooling&#x27;, &#x27;B302030807::ASHP_DHW&#x27;,\n       &#x27;B302030807::heat_storage&#x27;, &#x27;B302030807::ASHP&#x27;, &#x27;B302030807::SCFP&#x27;,\n       &#x27;B302030807::DHW_storage&#x27;, &#x27;B302030807::wood_supply&#x27;,\n       &#x27;B302030807::battery&#x27;], dtype=object)</pre></div></li><li class='xr-var-item'><div class='xr-var-name'><span class='xr-has-index'>loc_techs_cost_investment_constraint</span></div><div class='xr-var-dims'>(loc_techs_cost_investment_constraint)</div><div class='xr-var-dtype'>object</div><div class='xr-var-preview xr-preview'>&#x27;B302030807::PV&#x27; ... &#x27;B302030807...</div><input id='attrs-1b7f4a60-4985-4374-a3b2-f687f3d63331' class='xr-var-attrs-in' type='checkbox' disabled><label for='attrs-1b7f4a60-4985-4374-a3b2-f687f3d63331' title='Show/Hide attributes'><svg class='icon xr-icon-file-text2'><use xlink:href='#icon-file-text2'></use></svg></label><input id='data-a687c2b8-3ea5-493a-a867-db23977092d8' class='xr-var-data-in' type='checkbox'><label for='data-a687c2b8-3ea5-493a-a867-db23977092d8' title='Show/Hide data repr'><svg class='icon xr-icon-database'><use xlink:href='#icon-database'></use></svg></label><div class='xr-var-attrs'><dl class='xr-attrs'></dl></div><div class='xr-var-data'><pre>array([&#x27;B302030807::PV&#x27;, &#x27;B302030807::wood_boiler_heat&#x27;,\n       &#x27;B302030807::geothermal_boreholes&#x27;, &#x27;B302030807::GSHP_heat&#x27;,\n       &#x27;B302030807::wood_boiler_DHW&#x27;, &#x27;B302030807::ASHP_DHW&#x27;,\n       &#x27;B302030807::battery&#x27;, &#x27;B302030807::heat_storage&#x27;, &#x27;B302030807::ASHP&#x27;,\n       &#x27;B302030807::SCFP&#x27;, &#x27;B302030807::DHW_storage&#x27;,\n       &#x27;B302030807::GSHP_cooling&#x27;], dtype=object)</pre></div></li><li class='xr-var-item'><div class='xr-var-name'><span class='xr-has-index'>loc_techs_investment_cost</span></div><div class='xr-var-dims'>(loc_techs_investment_cost)</div><div class='xr-var-dtype'>object</div><div class='xr-var-preview xr-preview'>&#x27;B302030807::PV&#x27; ... &#x27;B302030807...</div><input id='attrs-01079d18-4eaa-40ea-bc03-897efcc4e10b' class='xr-var-attrs-in' type='checkbox' disabled><label for='attrs-01079d18-4eaa-40ea-bc03-897efcc4e10b' title='Show/Hide attributes'><svg class='icon xr-icon-file-text2'><use xlink:href='#icon-file-text2'></use></svg></label><input id='data-6aa8180c-7634-4be0-944d-754b0734a3bf' class='xr-var-data-in' type='checkbox'><label for='data-6aa8180c-7634-4be0-944d-754b0734a3bf' title='Show/Hide data repr'><svg class='icon xr-icon-database'><use xlink:href='#icon-database'></use></svg></label><div class='xr-var-attrs'><dl class='xr-attrs'></dl></div><div class='xr-var-data'><pre>array([&#x27;B302030807::PV&#x27;, &#x27;B302030807::wood_boiler_heat&#x27;,\n       &#x27;B302030807::geothermal_boreholes&#x27;, &#x27;B302030807::GSHP_heat&#x27;,\n       &#x27;B302030807::wood_boiler_DHW&#x27;, &#x27;B302030807::ASHP_DHW&#x27;,\n       &#x27;B302030807::battery&#x27;, &#x27;B302030807::heat_storage&#x27;, &#x27;B302030807::ASHP&#x27;,\n       &#x27;B302030807::SCFP&#x27;, &#x27;B302030807::DHW_storage&#x27;,\n       &#x27;B302030807::GSHP_cooling&#x27;], dtype=object)</pre></div></li><li class='xr-var-item'><div class='xr-var-name'><span class='xr-has-index'>loc_techs_om_cost</span></div><div class='xr-var-dims'>(loc_techs_om_cost)</div><div class='xr-var-dtype'>object</div><div class='xr-var-preview xr-preview'>&#x27;B302030807::PV&#x27; ... &#x27;B302030807...</div><input id='attrs-a5eb6a7e-b503-447f-9fb3-da9778c68043' class='xr-var-attrs-in' type='checkbox' disabled><label for='attrs-a5eb6a7e-b503-447f-9fb3-da9778c68043' title='Show/Hide attributes'><svg class='icon xr-icon-file-text2'><use xlink:href='#icon-file-text2'></use></svg></label><input id='data-7442c15d-31eb-4868-8ceb-219acde719c4' class='xr-var-data-in' type='checkbox'><label for='data-7442c15d-31eb-4868-8ceb-219acde719c4' title='Show/Hide data repr'><svg class='icon xr-icon-database'><use xlink:href='#icon-database'></use></svg></label><div class='xr-var-attrs'><dl class='xr-attrs'></dl></div><div class='xr-var-data'><pre>array([&#x27;B302030807::PV&#x27;, &#x27;B302030807::grid&#x27;, &#x27;B302030807::SCFP&#x27;,\n       &#x27;B302030807::wood_supply&#x27;], dtype=object)</pre></div></li><li class='xr-var-item'><div class='xr-var-name'><span class='xr-has-index'>loc_techs_purchase</span></div><div class='xr-var-dims'>(loc_techs_purchase)</div><div class='xr-var-dtype'>object</div><div class='xr-var-preview xr-preview'>&#x27;B302030807::ASHP&#x27; ... &#x27;B3020308...</div><input id='attrs-e3baf900-f764-4910-9b32-8041bd3d9713' class='xr-var-attrs-in' type='checkbox' disabled><label for='attrs-e3baf900-f764-4910-9b32-8041bd3d9713' title='Show/Hide attributes'><svg class='icon xr-icon-file-text2'><use xlink:href='#icon-file-text2'></use></svg></label><input id='data-b2e8eff0-cee8-43ae-8f29-f4e753073425' class='xr-var-data-in' type='checkbox'><label for='data-b2e8eff0-cee8-43ae-8f29-f4e753073425' title='Show/Hide data repr'><svg class='icon xr-icon-database'><use xlink:href='#icon-database'></use></svg></label><div class='xr-var-attrs'><dl class='xr-attrs'></dl></div><div class='xr-var-data'><pre>array([&#x27;B302030807::ASHP&#x27;, &#x27;B302030807::wood_boiler_heat&#x27;,\n       &#x27;B302030807::GSHP_heat&#x27;, &#x27;B302030807::GSHP_cooling&#x27;,\n       &#x27;B302030807::wood_boiler_DHW&#x27;, &#x27;B302030807::ASHP_DHW&#x27;], dtype=object)</pre></div></li><li class='xr-var-item'><div class='xr-var-name'><span class='xr-has-index'>loc_techs_store</span></div><div class='xr-var-dims'>(loc_techs_store)</div><div class='xr-var-dtype'>object</div><div class='xr-var-preview xr-preview'>&#x27;B302030807::heat_storage&#x27; ... &#x27;...</div><input id='attrs-d03be04f-719d-4a2e-aad4-90f77a453110' class='xr-var-attrs-in' type='checkbox' disabled><label for='attrs-d03be04f-719d-4a2e-aad4-90f77a453110' title='Show/Hide attributes'><svg class='icon xr-icon-file-text2'><use xlink:href='#icon-file-text2'></use></svg></label><input id='data-86ddb1a0-589d-491d-853a-2442b61e74e2' class='xr-var-data-in' type='checkbox'><label for='data-86ddb1a0-589d-491d-853a-2442b61e74e2' title='Show/Hide data repr'><svg class='icon xr-icon-database'><use xlink:href='#icon-database'></use></svg></label><div class='xr-var-attrs'><dl class='xr-attrs'></dl></div><div class='xr-var-data'><pre>array([&#x27;B302030807::heat_storage&#x27;, &#x27;B302030807::battery&#x27;,\n       &#x27;B302030807::DHW_storage&#x27;, &#x27;B302030807::geothermal_boreholes&#x27;],\n      dtype=object)</pre></div></li><li class='xr-var-item'><div class='xr-var-name'><span class='xr-has-index'>timesteps</span></div><div class='xr-var-dims'>(timesteps)</div><div class='xr-var-dtype'>datetime64[ns]</div><div class='xr-var-preview xr-preview'>2050-01-01 ... 2050-12-31T18:00:00</div><input id='attrs-9b0215b8-1928-4669-b513-184a590421f7' class='xr-var-attrs-in' type='checkbox' disabled><label for='attrs-9b0215b8-1928-4669-b513-184a590421f7' title='Show/Hide attributes'><svg class='icon xr-icon-file-text2'><use xlink:href='#icon-file-text2'></use></svg></label><input id='data-583e985f-1ac4-476a-bf26-9a6d206f9919' class='xr-var-data-in' type='checkbox'><label for='data-583e985f-1ac4-476a-bf26-9a6d206f9919' title='Show/Hide data repr'><svg class='icon xr-icon-database'><use xlink:href='#icon-database'></use></svg></label><div class='xr-var-attrs'><dl class='xr-attrs'></dl></div><div class='xr-var-data'><pre>array([&#x27;2050-01-01T00:00:00.000000000&#x27;, &#x27;2050-01-01T06:00:00.000000000&#x27;,\n       &#x27;2050-01-01T12:00:00.000000000&#x27;, ..., &#x27;2050-12-31T06:00:00.000000000&#x27;,\n       &#x27;2050-12-31T12:00:00.000000000&#x27;, &#x27;2050-12-31T18:00:00.000000000&#x27;],\n      dtype=&#x27;datetime64[ns]&#x27;)</pre></div></li></ul></div></li><li class='xr-section-item'><input id='section-ff615476-4ffc-403c-af25-52f73eae0b8d' class='xr-section-summary-in' type='checkbox'  ><label for='section-ff615476-4ffc-403c-af25-52f73eae0b8d' class='xr-section-summary' >Data variables: <span>(19)</span></label><div class='xr-section-inline-details'></div><div class='xr-section-details'><ul class='xr-var-list'><li class='xr-var-item'><div class='xr-var-name'><span>energy_cap</span></div><div class='xr-var-dims'>(loc_techs)</div><div class='xr-var-dtype'>float64</div><div class='xr-var-preview xr-preview'>67.35 0.0 0.0 ... 0.0 41.0 23.63</div><input id='attrs-9d5905a4-05d0-4d66-ae25-75e5741f26ad' class='xr-var-attrs-in' type='checkbox' ><label for='attrs-9d5905a4-05d0-4d66-ae25-75e5741f26ad' title='Show/Hide attributes'><svg class='icon xr-icon-file-text2'><use xlink:href='#icon-file-text2'></use></svg></label><input id='data-7d6a2466-5f99-48e0-ad67-f49b757f88cc' class='xr-var-data-in' type='checkbox'><label for='data-7d6a2466-5f99-48e0-ad67-f49b757f88cc' title='Show/Hide data repr'><svg class='icon xr-icon-database'><use xlink:href='#icon-database'></use></svg></label><div class='xr-var-attrs'><dl class='xr-attrs'><dt><span>is_result :</span></dt><dd>1</dd></dl></div><div class='xr-var-data'><pre>array([6.73514584e+01, 0.00000000e+00, 0.00000000e+00, 2.50000000e+02,\n       1.10000000e+01, 3.90735121e+01, 1.05555000e+01, 1.00000000e+05,\n       0.00000000e+00, 1.80000000e+01, 7.94747000e+00, 1.00000000e+05,\n       2.45340867e+01, 0.00000000e+00, 1.50000000e+01, 0.00000000e+00,\n       4.10000000e+01, 2.36271167e+01])</pre></div></li><li class='xr-var-item'><div class='xr-var-name'><span>carrier_prod</span></div><div class='xr-var-dims'>(loc_tech_carriers_prod, timesteps)</div><div class='xr-var-dtype'>float64</div><div class='xr-var-preview xr-preview'>0.0 0.0 0.0 0.0 ... 0.0 0.0 0.0 0.0</div><input id='attrs-b3b2f5ea-150a-4bdd-9f93-64fa5582f563' class='xr-var-attrs-in' type='checkbox' ><label for='attrs-b3b2f5ea-150a-4bdd-9f93-64fa5582f563' title='Show/Hide attributes'><svg class='icon xr-icon-file-text2'><use xlink:href='#icon-file-text2'></use></svg></label><input id='data-e564007d-ae10-48b5-9397-55833b430833' class='xr-var-data-in' type='checkbox'><label for='data-e564007d-ae10-48b5-9397-55833b430833' title='Show/Hide data repr'><svg class='icon xr-icon-database'><use xlink:href='#icon-database'></use></svg></label><div class='xr-var-attrs'><dl class='xr-attrs'><dt><span>is_result :</span></dt><dd>1</dd></dl></div><div class='xr-var-data'><pre>array([[ 0.   ,  0.   ,  0.   , ...,  0.   ,  0.   ,  0.   ],\n       [ 0.   ,  0.   ,  0.   , ...,  0.   ,  0.   ,  0.   ],\n       [ 0.   ,  5.64 ,  6.48 , ...,  5.9  ,  8.09 ,  0.   ],\n       ...,\n       [ 6.236, 46.351, 40.855, ..., 46.408, 40.892, 34.241],\n       [ 0.   ,  0.   ,  0.   , ...,  0.   ,  0.   ,  0.   ],\n       [ 0.   ,  0.   ,  0.   , ...,  0.   ,  0.   ,  0.   ]])</pre></div></li><li class='xr-var-item'><div class='xr-var-name'><span>carrier_con</span></div><div class='xr-var-dims'>(loc_tech_carriers_con, timesteps)</div><div class='xr-var-dtype'>float64</div><div class='xr-var-preview xr-preview'>0.0 0.0 0.0 ... -66.3 -58.42 -48.92</div><input id='attrs-1ed0d27c-9358-48d5-912f-c462427b86ce' class='xr-var-attrs-in' type='checkbox' ><label for='attrs-1ed0d27c-9358-48d5-912f-c462427b86ce' title='Show/Hide attributes'><svg class='icon xr-icon-file-text2'><use xlink:href='#icon-file-text2'></use></svg></label><input id='data-fc1fd513-77a0-461c-922d-b764959a66a7' class='xr-var-data-in' type='checkbox'><label for='data-fc1fd513-77a0-461c-922d-b764959a66a7' title='Show/Hide data repr'><svg class='icon xr-icon-database'><use xlink:href='#icon-database'></use></svg></label><div class='xr-var-attrs'><dl class='xr-attrs'><dt><span>is_result :</span></dt><dd>1</dd></dl></div><div class='xr-var-data'><pre>array([[  0.        ,   0.        ,   0.        , ...,   0.        ,\n          0.        ,   0.        ],\n       [  0.        ,   0.        ,   0.        , ...,   0.        ,\n          0.        ,   0.        ],\n       [  0.        ,   0.        ,   0.        , ...,   0.        ,\n          0.        ,   0.        ],\n       ...,\n       [ -6.236     , -46.351     , -40.855     , ..., -46.408     ,\n        -40.892     , -34.241     ],\n       [  0.        ,   0.        ,   0.        , ...,   0.        ,\n          0.        ,   0.        ],\n       [ -8.90857143, -66.21571429, -58.36428571, ..., -66.29714286,\n        -58.41714286, -48.91571429]])</pre></div></li><li class='xr-var-item'><div class='xr-var-name'><span>cost</span></div><div class='xr-var-dims'>(costs, loc_techs_cost)</div><div class='xr-var-dtype'>float64</div><div class='xr-var-preview xr-preview'>753.3 0.0 ... 1.137e+06 2.352e+04</div><input id='attrs-789ff535-8bc8-4ca4-b2e3-b62e1b89df1b' class='xr-var-attrs-in' type='checkbox' ><label for='attrs-789ff535-8bc8-4ca4-b2e3-b62e1b89df1b' title='Show/Hide attributes'><svg class='icon xr-icon-file-text2'><use xlink:href='#icon-file-text2'></use></svg></label><input id='data-378c21c3-ea3d-49da-b7af-ad23c2f9de2e' class='xr-var-data-in' type='checkbox'><label for='data-378c21c3-ea3d-49da-b7af-ad23c2f9de2e' title='Show/Hide data repr'><svg class='icon xr-icon-database'><use xlink:href='#icon-database'></use></svg></label><div class='xr-var-attrs'><dl class='xr-attrs'><dt><span>is_result :</span></dt><dd>1</dd></dl></div><div class='xr-var-data'><pre>array([[7.53291000e+02, 0.00000000e+00, 0.00000000e+00, 0.00000000e+00,\n        5.25308828e+03, 0.00000000e+00, 0.00000000e+00, 0.00000000e+00,\n        0.00000000e+00, 0.00000000e+00, 0.00000000e+00, 0.00000000e+00,\n        2.01105295e+03, 0.00000000e+00],\n       [7.60415171e+03, 1.62250511e+06, 0.00000000e+00, 0.00000000e+00,\n        1.00859295e+06, 1.62250511e+06, 5.50000000e+01, 0.00000000e+00,\n        0.00000000e+00, 1.61243013e+03, 0.00000000e+00, 0.00000000e+00,\n        1.13668210e+06, 2.35236555e+04]])</pre></div></li><li class='xr-var-item'><div class='xr-var-name'><span>resource_area</span></div><div class='xr-var-dims'>(loc_techs_area)</div><div class='xr-var-dtype'>float64</div><div class='xr-var-preview xr-preview'>273.5 0.0</div><input id='attrs-fda214d9-135e-4674-9db8-6daa8dd0e1d6' class='xr-var-attrs-in' type='checkbox' ><label for='attrs-fda214d9-135e-4674-9db8-6daa8dd0e1d6' title='Show/Hide attributes'><svg class='icon xr-icon-file-text2'><use xlink:href='#icon-file-text2'></use></svg></label><input id='data-317fbe6c-db3e-4ace-ac7f-5e44fe8337e0' class='xr-var-data-in' type='checkbox'><label for='data-317fbe6c-db3e-4ace-ac7f-5e44fe8337e0' title='Show/Hide data repr'><svg class='icon xr-icon-database'><use xlink:href='#icon-database'></use></svg></label><div class='xr-var-attrs'><dl class='xr-attrs'><dt><span>is_result :</span></dt><dd>1</dd></dl></div><div class='xr-var-data'><pre>array([273.51458448,   0.        ])</pre></div></li><li class='xr-var-item'><div class='xr-var-name'><span>storage_cap</span></div><div class='xr-var-dims'>(loc_techs_store)</div><div class='xr-var-dtype'>float64</div><div class='xr-var-preview xr-preview'>0.0 1e+03 0.0 0.0</div><input id='attrs-48e8b6d1-08e7-4ec5-b766-5ec2e6cb99f2' class='xr-var-attrs-in' type='checkbox' ><label for='attrs-48e8b6d1-08e7-4ec5-b766-5ec2e6cb99f2' title='Show/Hide attributes'><svg class='icon xr-icon-file-text2'><use xlink:href='#icon-file-text2'></use></svg></label><input id='data-e3b62247-3900-4674-9ca4-59709127076b' class='xr-var-data-in' type='checkbox'><label for='data-e3b62247-3900-4674-9ca4-59709127076b' title='Show/Hide data repr'><svg class='icon xr-icon-database'><use xlink:href='#icon-database'></use></svg></label><div class='xr-var-attrs'><dl class='xr-attrs'><dt><span>is_result :</span></dt><dd>1</dd></dl></div><div class='xr-var-data'><pre>array([   0., 1000.,    0.,    0.])</pre></div></li><li class='xr-var-item'><div class='xr-var-name'><span>storage</span></div><div class='xr-var-dims'>(loc_techs_store, timesteps)</div><div class='xr-var-dtype'>float64</div><div class='xr-var-preview xr-preview'>0.0 0.0 0.0 0.0 ... 0.0 0.0 0.0 0.0</div><input id='attrs-26fcb62d-f02e-47a8-8b49-ff7db2d9af83' class='xr-var-attrs-in' type='checkbox' ><label for='attrs-26fcb62d-f02e-47a8-8b49-ff7db2d9af83' title='Show/Hide attributes'><svg class='icon xr-icon-file-text2'><use xlink:href='#icon-file-text2'></use></svg></label><input id='data-099c1ceb-209f-47ca-a5d3-928a5fbb152e' class='xr-var-data-in' type='checkbox'><label for='data-099c1ceb-209f-47ca-a5d3-928a5fbb152e' title='Show/Hide data repr'><svg class='icon xr-icon-database'><use xlink:href='#icon-database'></use></svg></label><div class='xr-var-attrs'><dl class='xr-attrs'><dt><span>is_result :</span></dt><dd>1</dd></dl></div><div class='xr-var-data'><pre>array([[0., 0., 0., ..., 0., 0., 0.],\n       [0., 0., 0., ..., 0., 0., 0.],\n       [0., 0., 0., ..., 0., 0., 0.],\n       [0., 0., 0., ..., 0., 0., 0.]])</pre></div></li><li class='xr-var-item'><div class='xr-var-name'><span>carrier_export</span></div><div class='xr-var-dims'>(loc_tech_carriers_export, timesteps)</div><div class='xr-var-dtype'>float64</div><div class='xr-var-preview xr-preview'>0.0 0.0 0.0 0.0 ... 0.0 0.0 0.0 0.0</div><input id='attrs-4e40d4e9-9589-4116-9530-051ff42c4dec' class='xr-var-attrs-in' type='checkbox' ><label for='attrs-4e40d4e9-9589-4116-9530-051ff42c4dec' title='Show/Hide attributes'><svg class='icon xr-icon-file-text2'><use xlink:href='#icon-file-text2'></use></svg></label><input id='data-ac96087b-8b9e-45fd-bcce-e64634fab5e6' class='xr-var-data-in' type='checkbox'><label for='data-ac96087b-8b9e-45fd-bcce-e64634fab5e6' title='Show/Hide data repr'><svg class='icon xr-icon-database'><use xlink:href='#icon-database'></use></svg></label><div class='xr-var-attrs'><dl class='xr-attrs'><dt><span>is_result :</span></dt><dd>1</dd></dl></div><div class='xr-var-data'><pre>array([[0., 0., 0., ..., 0., 0., 0.]])</pre></div></li><li class='xr-var-item'><div class='xr-var-name'><span>cost_var</span></div><div class='xr-var-dims'>(costs, loc_techs_om_cost, timesteps)</div><div class='xr-var-dtype'>float64</div><div class='xr-var-preview xr-preview'>0.0 0.2369 ... 1.642e+03 784.0</div><input id='attrs-04ded098-e255-42d6-a473-d0d6c12e8671' class='xr-var-attrs-in' type='checkbox' ><label for='attrs-04ded098-e255-42d6-a473-d0d6c12e8671' title='Show/Hide attributes'><svg class='icon xr-icon-file-text2'><use xlink:href='#icon-file-text2'></use></svg></label><input id='data-6e9e2c4c-c2ed-422a-b5e5-6a2fa3227672' class='xr-var-data-in' type='checkbox'><label for='data-6e9e2c4c-c2ed-422a-b5e5-6a2fa3227672' title='Show/Hide data repr'><svg class='icon xr-icon-database'><use xlink:href='#icon-database'></use></svg></label><div class='xr-var-attrs'><dl class='xr-attrs'><dt><span>is_result :</span></dt><dd>1</dd></dl></div><div class='xr-var-data'><pre>array([[[0.00000000e+00, 2.36880000e-01, 2.72160000e-01, ...,\n         2.47800000e-01, 3.39780000e-01, 0.00000000e+00],\n        [2.71912500e+00, 3.31450000e+00, 3.41100000e+00, ...,\n         2.92937500e+00, 3.36487500e+00, 6.34600000e+00],\n        [0.00000000e+00, 0.00000000e+00, 0.00000000e+00, ...,\n         0.00000000e+00, 0.00000000e+00, 0.00000000e+00],\n        [2.04897143e-01, 3.56314768e+00, 2.54177107e+00, ...,\n         4.28523679e+00, 2.90509304e+00, 1.38703143e+00]],\n\n       [[0.00000000e+00, 0.00000000e+00, 0.00000000e+00, ...,\n         0.00000000e+00, 0.00000000e+00, 0.00000000e+00],\n        [5.22072000e+02, 6.36384000e+02, 6.54912000e+02, ...,\n         5.62440000e+02, 6.46056000e+02, 1.21843200e+03],\n        [0.00000000e+00, 0.00000000e+00, 0.00000000e+00, ...,\n         0.00000000e+00, 0.00000000e+00, 0.00000000e+00],\n        [1.15811429e+02, 2.01395304e+03, 1.43665321e+03, ...,\n         2.42209036e+03, 1.64200911e+03, 7.83974286e+02]]])</pre></div></li><li class='xr-var-item'><div class='xr-var-name'><span>cost_investment</span></div><div class='xr-var-dims'>(costs, loc_techs_investment_cost)</div><div class='xr-var-dtype'>float64</div><div class='xr-var-preview xr-preview'>0.0 0.0 0.0 0.0 ... 0.0 0.0 55.0</div><input id='attrs-0e80042c-f403-4782-9705-4368cd01019c' class='xr-var-attrs-in' type='checkbox' ><label for='attrs-0e80042c-f403-4782-9705-4368cd01019c' title='Show/Hide attributes'><svg class='icon xr-icon-file-text2'><use xlink:href='#icon-file-text2'></use></svg></label><input id='data-3939107d-a644-498e-8ce2-e4a0c8a70069' class='xr-var-data-in' type='checkbox'><label for='data-3939107d-a644-498e-8ce2-e4a0c8a70069' title='Show/Hide data repr'><svg class='icon xr-icon-database'><use xlink:href='#icon-database'></use></svg></label><div class='xr-var-attrs'><dl class='xr-attrs'><dt><span>is_result :</span></dt><dd>1</dd></dl></div><div class='xr-var-data'><pre>array([[0.00000000e+00, 0.00000000e+00, 0.00000000e+00, 0.00000000e+00,\n        0.00000000e+00, 0.00000000e+00, 0.00000000e+00, 0.00000000e+00,\n        0.00000000e+00, 0.00000000e+00, 0.00000000e+00, 0.00000000e+00],\n       [7.60415171e+03, 1.62250511e+06, 0.00000000e+00, 0.00000000e+00,\n        1.62250511e+06, 0.00000000e+00, 2.35236555e+04, 0.00000000e+00,\n        1.61243013e+03, 0.00000000e+00, 0.00000000e+00, 5.50000000e+01]])</pre></div></li><li class='xr-var-item'><div class='xr-var-name'><span>purchased</span></div><div class='xr-var-dims'>(loc_techs_purchase)</div><div class='xr-var-dtype'>float64</div><div class='xr-var-preview xr-preview'>0.0 1.0 0.0 0.0 1.0 0.0</div><input id='attrs-7d2b1b15-e9bd-4ae1-a459-bdfa56b02ddb' class='xr-var-attrs-in' type='checkbox' ><label for='attrs-7d2b1b15-e9bd-4ae1-a459-bdfa56b02ddb' title='Show/Hide attributes'><svg class='icon xr-icon-file-text2'><use xlink:href='#icon-file-text2'></use></svg></label><input id='data-1772ecd9-1778-41a5-8981-ff52aabb9d03' class='xr-var-data-in' type='checkbox'><label for='data-1772ecd9-1778-41a5-8981-ff52aabb9d03' title='Show/Hide data repr'><svg class='icon xr-icon-database'><use xlink:href='#icon-database'></use></svg></label><div class='xr-var-attrs'><dl class='xr-attrs'><dt><span>is_result :</span></dt><dd>1</dd></dl></div><div class='xr-var-data'><pre>array([0., 1., 0., 0., 1., 0.])</pre></div></li><li class='xr-var-item'><div class='xr-var-name'><span>cost_investment_rhs</span></div><div class='xr-var-dims'>(costs, loc_techs_cost_investment_constraint)</div><div class='xr-var-dtype'>float64</div><div class='xr-var-preview xr-preview'>0.0 0.0 0.0 0.0 ... 0.0 0.0 55.0</div><input id='attrs-ef268b7e-dd64-4e1b-a27e-0a690c0589eb' class='xr-var-attrs-in' type='checkbox' ><label for='attrs-ef268b7e-dd64-4e1b-a27e-0a690c0589eb' title='Show/Hide attributes'><svg class='icon xr-icon-file-text2'><use xlink:href='#icon-file-text2'></use></svg></label><input id='data-d0ef0ffd-3b5a-45af-8b68-785e0de6cddc' class='xr-var-data-in' type='checkbox'><label for='data-d0ef0ffd-3b5a-45af-8b68-785e0de6cddc' title='Show/Hide data repr'><svg class='icon xr-icon-database'><use xlink:href='#icon-database'></use></svg></label><div class='xr-var-attrs'><dl class='xr-attrs'><dt><span>is_result :</span></dt><dd>1</dd></dl></div><div class='xr-var-data'><pre>array([[0.00000000e+00, 0.00000000e+00, 0.00000000e+00, 0.00000000e+00,\n        0.00000000e+00, 0.00000000e+00, 0.00000000e+00, 0.00000000e+00,\n        0.00000000e+00, 0.00000000e+00, 0.00000000e+00, 0.00000000e+00],\n       [7.60415171e+03, 1.62250511e+06, 0.00000000e+00, 0.00000000e+00,\n        1.62250511e+06, 0.00000000e+00, 2.35236555e+04, 0.00000000e+00,\n        1.61243013e+03, 0.00000000e+00, 0.00000000e+00, 5.50000000e+01]])</pre></div></li><li class='xr-var-item'><div class='xr-var-name'><span>cost_var_rhs</span></div><div class='xr-var-dims'>(costs, loc_techs_om_cost, timesteps)</div><div class='xr-var-dtype'>float64</div><div class='xr-var-preview xr-preview'>0.0 0.2369 ... 1.642e+03 784.0</div><input id='attrs-9af96d5a-6ba3-4f14-8e58-28bda37b0efb' class='xr-var-attrs-in' type='checkbox' ><label for='attrs-9af96d5a-6ba3-4f14-8e58-28bda37b0efb' title='Show/Hide attributes'><svg class='icon xr-icon-file-text2'><use xlink:href='#icon-file-text2'></use></svg></label><input id='data-a1a0b662-9466-4746-9bb9-a80816705298' class='xr-var-data-in' type='checkbox'><label for='data-a1a0b662-9466-4746-9bb9-a80816705298' title='Show/Hide data repr'><svg class='icon xr-icon-database'><use xlink:href='#icon-database'></use></svg></label><div class='xr-var-attrs'><dl class='xr-attrs'><dt><span>is_result :</span></dt><dd>1</dd></dl></div><div class='xr-var-data'><pre>array([[[0.00000000e+00, 2.36880000e-01, 2.72160000e-01, ...,\n         2.47800000e-01, 3.39780000e-01, 0.00000000e+00],\n        [2.71912500e+00, 3.31450000e+00, 3.41100000e+00, ...,\n         2.92937500e+00, 3.36487500e+00, 6.34600000e+00],\n        [0.00000000e+00, 0.00000000e+00, 0.00000000e+00, ...,\n         0.00000000e+00, 0.00000000e+00, 0.00000000e+00],\n        [2.04897143e-01, 3.56314768e+00, 2.54177107e+00, ...,\n         4.28523679e+00, 2.90509304e+00, 1.38703143e+00]],\n\n       [[0.00000000e+00, 0.00000000e+00, 0.00000000e+00, ...,\n         0.00000000e+00, 0.00000000e+00, 0.00000000e+00],\n        [5.22072000e+02, 6.36384000e+02, 6.54912000e+02, ...,\n         5.62440000e+02, 6.46056000e+02, 1.21843200e+03],\n        [0.00000000e+00, 0.00000000e+00, 0.00000000e+00, ...,\n         0.00000000e+00, 0.00000000e+00, 0.00000000e+00],\n        [1.15811429e+02, 2.01395304e+03, 1.43665321e+03, ...,\n         2.42209036e+03, 1.64200911e+03, 7.83974286e+02]]])</pre></div></li><li class='xr-var-item'><div class='xr-var-name'><span>system_balance</span></div><div class='xr-var-dims'>(loc_carriers_system_balance_constraint, timesteps)</div><div class='xr-var-dtype'>float64</div><div class='xr-var-preview xr-preview'>0.0 0.0 0.0 0.0 ... 0.0 0.0 0.0 0.0</div><input id='attrs-cad9923e-25c2-4959-a01c-524a63210ee6' class='xr-var-attrs-in' type='checkbox' ><label for='attrs-cad9923e-25c2-4959-a01c-524a63210ee6' title='Show/Hide attributes'><svg class='icon xr-icon-file-text2'><use xlink:href='#icon-file-text2'></use></svg></label><input id='data-dae7b64e-2b32-4189-b005-676ea2b1d930' class='xr-var-data-in' type='checkbox'><label for='data-dae7b64e-2b32-4189-b005-676ea2b1d930' title='Show/Hide data repr'><svg class='icon xr-icon-database'><use xlink:href='#icon-database'></use></svg></label><div class='xr-var-attrs'><dl class='xr-attrs'><dt><span>is_result :</span></dt><dd>1</dd></dl></div><div class='xr-var-data'><pre>array([[0., 0., 0., ..., 0., 0., 0.],\n       [0., 0., 0., ..., 0., 0., 0.],\n       [0., 0., 0., ..., 0., 0., 0.],\n       [0., 0., 0., ..., 0., 0., 0.],\n       [0., 0., 0., ..., 0., 0., 0.],\n       [0., 0., 0., ..., 0., 0., 0.]])</pre></div></li><li class='xr-var-item'><div class='xr-var-name'><span>required_resource</span></div><div class='xr-var-dims'>(loc_techs_balance_demand_constraint, timesteps)</div><div class='xr-var-dtype'>float64</div><div class='xr-var-preview xr-preview'>-21.75 -32.16 -33.77 ... 0.0 0.0</div><input id='attrs-804af70b-fcea-4780-abba-2a5eab02cfb2' class='xr-var-attrs-in' type='checkbox' ><label for='attrs-804af70b-fcea-4780-abba-2a5eab02cfb2' title='Show/Hide attributes'><svg class='icon xr-icon-file-text2'><use xlink:href='#icon-file-text2'></use></svg></label><input id='data-3efd5225-fd0f-4dec-a77c-8dc402f95c34' class='xr-var-data-in' type='checkbox'><label for='data-3efd5225-fd0f-4dec-a77c-8dc402f95c34' title='Show/Hide data repr'><svg class='icon xr-icon-database'><use xlink:href='#icon-database'></use></svg></label><div class='xr-var-attrs'><dl class='xr-attrs'><dt><span>is_result :</span></dt><dd>1</dd></dl></div><div class='xr-var-data'><pre>array([[-21.753, -32.156, -33.768, ..., -29.335, -35.009, -50.768],\n       [ -6.236, -46.351, -40.855, ..., -46.408, -40.892, -34.241],\n       [  0.   , -70.963, -41.718, ..., -96.014, -54.313,  -9.112],\n       [  0.   ,   0.   ,   0.   , ...,   0.   ,   0.   ,   0.   ]])</pre></div></li><li class='xr-var-item'><div class='xr-var-name'><span>capacity_factor</span></div><div class='xr-var-dims'>(timesteps, loc_tech_carriers_prod)</div><div class='xr-var-dtype'>float64</div><div class='xr-var-preview xr-preview'>0.0 0.0 0.0 ... 0.0003424 0.0 0.0</div><input id='attrs-f2ab0de3-7a7d-4c47-8946-aa6ae8d19814' class='xr-var-attrs-in' type='checkbox' ><label for='attrs-f2ab0de3-7a7d-4c47-8946-aa6ae8d19814' title='Show/Hide attributes'><svg class='icon xr-icon-file-text2'><use xlink:href='#icon-file-text2'></use></svg></label><input id='data-d0aba4bc-424c-4d05-8fba-d2920eea0512' class='xr-var-data-in' type='checkbox'><label for='data-d0aba4bc-424c-4d05-8fba-d2920eea0512' title='Show/Hide data repr'><svg class='icon xr-icon-database'><use xlink:href='#icon-database'></use></svg></label><div class='xr-var-attrs'><dl class='xr-attrs'><dt><span>is_result :</span></dt><dd>1</dd></dl></div><div class='xr-var-data'><pre>array([[0.00000000e+00, 0.00000000e+00, 0.00000000e+00, ...,\n        6.23600000e-05, 0.00000000e+00, 0.00000000e+00],\n       [0.00000000e+00, 0.00000000e+00, 1.44343308e-01, ...,\n        4.63510000e-04, 0.00000000e+00, 0.00000000e+00],\n       [0.00000000e+00, 0.00000000e+00, 1.65841248e-01, ...,\n        4.08550000e-04, 0.00000000e+00, 0.00000000e+00],\n       ...,\n       [0.00000000e+00, 0.00000000e+00, 1.50997432e-01, ...,\n        4.64080000e-04, 0.00000000e+00, 0.00000000e+00],\n       [0.00000000e+00, 0.00000000e+00, 2.07045632e-01, ...,\n        4.08920000e-04, 0.00000000e+00, 0.00000000e+00],\n       [0.00000000e+00, 0.00000000e+00, 0.00000000e+00, ...,\n        3.42410000e-04, 0.00000000e+00, 0.00000000e+00]])</pre></div></li><li class='xr-var-item'><div class='xr-var-name'><span>systemwide_capacity_factor</span></div><div class='xr-var-dims'>(carriers, techs)</div><div class='xr-var-dtype'>float64</div><div class='xr-var-preview xr-preview'>0.0 nan nan nan ... 0.0 0.0 0.2434</div><input id='attrs-65de6e60-f66d-414d-88de-385a39b8fe0d' class='xr-var-attrs-in' type='checkbox' ><label for='attrs-65de6e60-f66d-414d-88de-385a39b8fe0d' title='Show/Hide attributes'><svg class='icon xr-icon-file-text2'><use xlink:href='#icon-file-text2'></use></svg></label><input id='data-59ef1c1a-ae0b-4b9a-886a-a94d7b534492' class='xr-var-data-in' type='checkbox'><label for='data-59ef1c1a-ae0b-4b9a-886a-a94d7b534492' title='Show/Hide data repr'><svg class='icon xr-icon-database'><use xlink:href='#icon-database'></use></svg></label><div class='xr-var-attrs'><dl class='xr-attrs'><dt><span>is_result :</span></dt><dd>1</dd></dl></div><div class='xr-var-data'><pre>array([[0.00000000e+00,            nan,            nan,            nan,\n                   nan,            nan,            nan,            nan,\n                   nan,            nan, 0.00000000e+00,            nan,\n        0.00000000e+00,            nan, 0.00000000e+00,            nan,\n                   nan,            nan,            nan, 0.00000000e+00,\n        0.00000000e+00,            nan, 5.31339764e-05, 0.00000000e+00,\n        0.00000000e+00],\n       [3.40642600e-02,            nan,            nan,            nan,\n                   nan,            nan,            nan,            nan,\n                   nan,            nan, 1.66779635e-01,            nan,\n        0.00000000e+00,            nan, 0.00000000e+00,            nan,\n                   nan,            nan,            nan, 0.00000000e+00,\n        0.00000000e+00,            nan, 0.00000000e+00, 0.00000000e+00,\n        0.00000000e+00],\n       [0.00000000e+00,            nan,            nan,            nan,\n                   nan,            nan,            nan,            nan,\n                   nan,            nan, 0.00000000e+00,            nan,\n        5.23994747e-02,            nan, 5.89575383e-04,            nan,\n                   nan,            nan,            nan, 0.00000000e+00,\n        2.66518939e-01,            nan, 0.00000000e+00, 0.00000000e+00,\n...\n                   nan,            nan,            nan,            nan,\n                   nan,            nan, 2.08474544e-01,            nan,\n        0.00000000e+00,            nan, 0.00000000e+00,            nan,\n                   nan,            nan,            nan, 1.45154375e-01,\n        0.00000000e+00,            nan, 0.00000000e+00, 0.00000000e+00,\n        0.00000000e+00],\n       [0.00000000e+00,            nan,            nan,            nan,\n                   nan,            nan,            nan,            nan,\n                   nan,            nan, 0.00000000e+00,            nan,\n        0.00000000e+00,            nan, 0.00000000e+00,            nan,\n                   nan,            nan,            nan, 0.00000000e+00,\n        0.00000000e+00,            nan, 0.00000000e+00, 1.91266744e-05,\n        0.00000000e+00],\n       [0.00000000e+00,            nan,            nan,            nan,\n                   nan,            nan,            nan,            nan,\n                   nan,            nan, 0.00000000e+00,            nan,\n        0.00000000e+00,            nan, 0.00000000e+00,            nan,\n                   nan,            nan,            nan, 0.00000000e+00,\n        0.00000000e+00,            nan, 0.00000000e+00, 0.00000000e+00,\n        2.43448838e-01]])</pre></div></li><li class='xr-var-item'><div class='xr-var-name'><span>systemwide_levelised_cost</span></div><div class='xr-var-dims'>(carriers, costs, techs)</div><div class='xr-var-dtype'>float64</div><div class='xr-var-preview xr-preview'>nan nan nan nan ... inf inf 13.0</div><input id='attrs-76a400e5-fa01-41f2-9446-21d425eda829' class='xr-var-attrs-in' type='checkbox' ><label for='attrs-76a400e5-fa01-41f2-9446-21d425eda829' title='Show/Hide attributes'><svg class='icon xr-icon-file-text2'><use xlink:href='#icon-file-text2'></use></svg></label><input id='data-acd3b6f7-7910-4590-a378-175c6b7a424f' class='xr-var-data-in' type='checkbox'><label for='data-acd3b6f7-7910-4590-a378-175c6b7a424f' title='Show/Hide data repr'><svg class='icon xr-icon-database'><use xlink:href='#icon-database'></use></svg></label><div class='xr-var-attrs'><dl class='xr-attrs'><dt><span>is_result :</span></dt><dd>1</dd></dl></div><div class='xr-var-data'><pre>array([[[           nan,            nan,            nan,            nan,\n                    nan,            nan,            nan,            nan,\n                    nan,            nan,            nan,            nan,\n                    inf,            nan,            nan,            nan,\n                    nan,            nan,            nan,            nan,\n                    inf,            nan, 0.00000000e+00,            nan,\n                    inf],\n        [           inf,            nan,            nan,            nan,\n                    nan,            nan,            nan,            nan,\n                    nan,            nan,            inf,            nan,\n                    inf,            nan,            inf,            nan,\n                    nan,            nan,            nan,            nan,\n                    inf,            nan, 3.48585766e+01,            inf,\n                    inf]],\n\n       [[0.00000000e+00,            nan,            nan,            nan,\n                    nan,            nan,            nan,            nan,\n                    nan,            nan, 0.00000000e+00,            nan,\n                    inf,            nan,            nan,            nan,\n                    nan,            nan,            nan,            nan,\n...\n                    nan,            nan,            inf,            nan,\n                    inf,            nan,            inf,            nan,\n                    nan,            nan,            nan,            nan,\n                    inf,            nan,            inf, 9.68372622e+01,\n                    inf]],\n\n       [[           nan,            nan,            nan,            nan,\n                    nan,            nan,            nan,            nan,\n                    nan,            nan,            nan,            nan,\n                    inf,            nan,            nan,            nan,\n                    nan,            nan,            nan,            nan,\n                    inf,            nan,            nan,            nan,\n         2.30000000e-02],\n        [           inf,            nan,            nan,            nan,\n                    nan,            nan,            nan,            nan,\n                    nan,            nan,            inf,            nan,\n                    inf,            nan,            inf,            nan,\n                    nan,            nan,            nan,            nan,\n                    inf,            nan,            inf,            inf,\n         1.30000000e+01]]])</pre></div></li><li class='xr-var-item'><div class='xr-var-name'><span>total_levelised_cost</span></div><div class='xr-var-dims'>(carriers, costs)</div><div class='xr-var-dtype'>float64</div><div class='xr-var-preview xr-preview'>0.1722 116.5 ... 0.09169 62.02</div><input id='attrs-cbecd37e-f8dc-418c-841d-fcb6c41d176b' class='xr-var-attrs-in' type='checkbox' ><label for='attrs-cbecd37e-f8dc-418c-841d-fcb6c41d176b' title='Show/Hide attributes'><svg class='icon xr-icon-file-text2'><use xlink:href='#icon-file-text2'></use></svg></label><input id='data-e47a34ec-f2d5-4101-adae-bcca3dc3153e' class='xr-var-data-in' type='checkbox'><label for='data-e47a34ec-f2d5-4101-adae-bcca3dc3153e' title='Show/Hide data repr'><svg class='icon xr-icon-database'><use xlink:href='#icon-database'></use></svg></label><div class='xr-var-attrs'><dl class='xr-attrs'><dt><span>is_result :</span></dt><dd>1</dd></dl></div><div class='xr-var-data'><pre>array([[1.72249858e-01, 1.16511724e+02],\n       [3.90200992e-01, 2.63936300e+02],\n       [1.33712553e-01, 9.04446608e+01],\n       [3.99103443e-01, 2.69958017e+02],\n       [4.78510780e-01, 3.23670024e+02],\n       [9.16937277e-02, 6.20226593e+01]])</pre></div></li></ul></div></li><li class='xr-section-item'><input id='section-d863375e-5661-4993-b06c-b69f9df3de04' class='xr-section-summary-in' type='checkbox'  ><label for='section-d863375e-5661-4993-b06c-b69f9df3de04' class='xr-section-summary' >Attributes: <span>(11)</span></label><div class='xr-section-inline-details'></div><div class='xr-section-details'><dl class='xr-attrs'><dt><span>termination_condition :</span></dt><dd>optimal</dd><dt><span>objective_function_value :</span></dt><dd>8017.432229433613</dd><dt><span>solution_time :</span></dt><dd>9.57991</dd><dt><span>time_finished :</span></dt><dd>2023-12-12 01:18:24</dd><dt><span>calliope_version :</span></dt><dd>0.6.10</dd><dt><span>applied_overrides :</span></dt><dd></dd><dt><span>scenario :</span></dt><dd>None</dd><dt><span>defaults :</span></dt><dd>carrier_ratios:\ncharge_rate:\nenergy_cap_per_storage_cap_min: 0\nenergy_cap_per_storage_cap_max: .inf\nenergy_cap_per_storage_cap_equals:\nenergy_cap_equals:\nenergy_cap_equals_systemwide:\nenergy_cap_max: .inf\nenergy_cap_max_systemwide: .inf\nenergy_cap_min: 0\nenergy_cap_min_use: 0\nenergy_cap_per_unit:\nenergy_cap_scale: 1.0\nenergy_con: false\nenergy_eff: 1.0\nenergy_eff_per_distance: 1.0\nenergy_prod: false\nenergy_ramping:\nexport_cap: .inf\nexport_carrier:\nforce_asynchronous_prod_con: false\nforce_resource: false\nlifetime:\none_way: false\nparasitic_eff: 1.0\nresource: 0\nresource_area_equals:\nresource_area_max: .inf\nresource_area_min: 0\nresource_area_per_energy_cap:\nresource_cap_equals:\nresource_cap_equals_energy_cap: false\nresource_cap_max: .inf\nresource_cap_min: 0\nresource_eff: 1.0\nresource_min_use: 0\nresource_scale: 1.0\nresource_unit: energy\nstorage_cap_equals:\nstorage_cap_max: .inf\nstorage_cap_min: 0\nstorage_cap_per_unit:\nstorage_discharge_depth: 0\nstorage_initial: 0\nstorage_loss: 0\nunits_equals:\nunits_equals_systemwide:\nunits_max:\nunits_max_systemwide: .inf\nunits_min:\ncost_energy_cap: 0\ncost_energy_cap_per_distance: 0\ncost_export: 0\ncost_interest_rate: 0\ncost_om_annual: 0\ncost_om_annual_investment_fraction: 0\ncost_om_con: 0\ncost_om_prod: 0\ncost_purchase: 0\ncost_resource_area: 0\ncost_resource_cap: 0\ncost_storage_cap: 0\ncost_depreciation_rate: 1\ntransmission_node: false\ncoordinates: {}\navailable_area:\ntechs: None\nexists: true\ngroup_demand_share_min: 0\ngroup_demand_share_max: .inf\ngroup_demand_share_equals:\ngroup_demand_share_per_timestep_min: 0\ngroup_demand_share_per_timestep_max: .inf\ngroup_demand_share_per_timestep_equals:\ngroup_demand_share_per_timestep_decision:\ngroup_carrier_prod_share_min: 0\ngroup_carrier_prod_share_max: .inf\ngroup_carrier_prod_share_equals:\ngroup_carrier_prod_share_per_timestep_min: 0\ngroup_carrier_prod_share_per_timestep_max: .inf\ngroup_carrier_prod_share_per_timestep_equals:\ngroup_net_import_share_min:\ngroup_net_import_share_max:\ngroup_net_import_share_equals:\ngroup_carrier_prod_min:\ngroup_carrier_prod_max:\ngroup_carrier_prod_equals:\ngroup_carrier_con_min:\ngroup_carrier_con_max:\ngroup_carrier_con_equals:\ngroup_cost_min:\ngroup_cost_max:\ngroup_cost_equals:\ngroup_cost_var_min:\ngroup_cost_var_max:\ngroup_cost_var_equals:\ngroup_cost_investment_min:\ngroup_cost_investment_max:\ngroup_cost_investment_equals:\ngroup_energy_cap_share_min: 0\ngroup_energy_cap_share_max: .inf\ngroup_energy_cap_share_equals:\ngroup_energy_cap_min: 0\ngroup_energy_cap_max: .inf\ngroup_energy_cap_equals:\ngroup_storage_cap_min: 0\ngroup_storage_cap_max: .inf\ngroup_storage_cap_equals:\ngroup_resource_area_min: 0\ngroup_resource_area_max: .inf\ngroup_resource_area_equals:\n</dd><dt><span>allow_operate_mode :</span></dt><dd>1</dd><dt><span>model_config :</span></dt><dd>calliope_version: 0.6.10\nname: building in plot 8\ntime:\n  function: resample\n  function_options:\n    resolution: 6H\ntimeseries_dateformat: &#x27;%Y-%m-%d %H:%M:%S&#x27;\n</dd><dt><span>run_config :</span></dt><dd>backend: pyomo\nbigM: 100000000.0\ncyclic_storage: true\nensure_feasibility: false\nmode: plan\nobjective_options:\n  cost_class:\n    monetary: 0\n    co2: 1\n  sense: minimize\nobjective: minmax_cost_optimization\noperation:\n  window:\n  horizon:\n  use_cap_results: false\nspores_options:\n  spores_number: 3\n  slack: 0.1\n  score_cost_class: spores_score\n  objective_cost_class:\n    spores_score: 1\n    monetary: 0\n  slack_cost_group:\n  save_per_spore: false\n  save_per_spore_path:\n  skip_cost_op: false\nrelax_constraint:\n  demand_share_per_timestep_decision_main_constraint: 0\nsave_logs: ./result_site_specific_2\nsolver: cplex\nzero_threshold: 1e-10\n</dd></dl></div></li></ul></div></div>"
     },
     "execution_count": 134,
     "metadata": {},
     "output_type": "execute_result"
    }
   ],
   "source": [
    "model.results"
   ],
   "metadata": {
    "collapsed": false,
    "ExecuteTime": {
     "end_time": "2023-12-12T00:19:55.947093600Z",
     "start_time": "2023-12-12T00:19:55.879952100Z"
    }
   },
   "id": "6dd08581f3059681"
  },
  {
   "cell_type": "code",
   "execution_count": 85,
   "outputs": [],
   "source": [
    "model_geostore_prod = model.get_formatted_array('carrier_prod').sel(carriers='electricity', locs='B302030807').to_pandas().transpose()\n",
    "model_geostore_con = model.get_formatted_array('carrier_con').sel(carriers='electricity', locs='B302030807').to_pandas().transpose()\n",
    "model_geostore_all = model_geostore_prod.merge(model_geostore_con, left_index=True, right_index=True)"
   ],
   "metadata": {
    "collapsed": false,
    "ExecuteTime": {
     "end_time": "2023-12-11T22:34:08.579392100Z",
     "start_time": "2023-12-11T22:34:08.500578900Z"
    }
   },
   "id": "e8db34ba75d0fa46"
  },
  {
   "cell_type": "code",
   "execution_count": 144,
   "outputs": [
    {
     "ename": "NameError",
     "evalue": "name 'model' is not defined",
     "output_type": "error",
     "traceback": [
      "\u001B[1;31m---------------------------------------------------------------------------\u001B[0m",
      "\u001B[1;31mNameError\u001B[0m                                 Traceback (most recent call last)",
      "Cell \u001B[1;32mIn[144], line 1\u001B[0m\n\u001B[1;32m----> 1\u001B[0m model_tech_cost \u001B[38;5;241m=\u001B[39m \u001B[43mmodel\u001B[49m\u001B[38;5;241m.\u001B[39mget_formatted_array(\u001B[38;5;124m'\u001B[39m\u001B[38;5;124mcost\u001B[39m\u001B[38;5;124m'\u001B[39m)\u001B[38;5;241m.\u001B[39msel(locs\u001B[38;5;241m=\u001B[39m\u001B[38;5;124m'\u001B[39m\u001B[38;5;124mB302030807\u001B[39m\u001B[38;5;124m'\u001B[39m)\u001B[38;5;241m.\u001B[39mto_pandas()\n",
      "\u001B[1;31mNameError\u001B[0m: name 'model' is not defined"
     ]
    }
   ],
   "source": [
    "model_tech_cost = model.get_formatted_array('cost').sel(locs='B302030807').to_pandas().transpose()"
   ],
   "metadata": {
    "collapsed": false,
    "ExecuteTime": {
     "end_time": "2023-12-12T00:54:06.275750700Z",
     "start_time": "2023-12-12T00:54:06.243852400Z"
    }
   },
   "id": "35a644efb916f7b4"
  },
  {
   "cell_type": "code",
   "execution_count": 49,
   "outputs": [],
   "source": [
    "# find timestep results for operation of geothermal storage\n",
    "borehole_prod = model.get_formatted_array('carrier_prod').sel(techs='ASHP', \n",
    "                                                              carriers='geothermal_storage').to_pandas().transpose()\n",
    "borehole_con = model.get_formatted_array('carrier_con').sel(techs='ASHP', \n",
    "                                                            carriers='geothermal_storage', ).to_pandas().transpose()\n"
   ],
   "metadata": {
    "collapsed": false,
    "ExecuteTime": {
     "end_time": "2023-12-11T18:49:37.961575800Z",
     "start_time": "2023-12-11T18:49:37.902779Z"
    }
   },
   "id": "fb8695897a8d6704"
  },
  {
   "cell_type": "code",
   "execution_count": 63,
   "outputs": [
    {
     "name": "stdout",
     "output_type": "stream",
     "text": [
      "the building with the largest borehole_prod is B302030807 with a value of 327.362949125638\n"
     ]
    },
    {
     "data": {
      "text/plain": "<Figure size 2000x1000 with 1 Axes>",
      "image/png": "[encoded data removed]"
     },
     "metadata": {},
     "output_type": "display_data"
    }
   ],
   "source": [
    "# plot for each building, the borehole cumulative energy flow\n",
    "# set plot size\n",
    "plt.figure(figsize=(20, 10))\n",
    "# set x axis to be the timestep, from 0 to 8760/4\n",
    "x = range(0, 1460)\n",
    "# set colormap to be summer\n",
    "# plt.set_cmap('summer')\n",
    "borehole_prod_max = 0\n",
    "borehole_prod_max_idx = ''\n",
    "for idx, row in energy_cap_df.iterrows():\n",
    "    model = calliope.read_netcdf(f'./result_site_specific_2/{idx}.nc')\n",
    "    # try to find the borehole operation data, but if there's no borehole, there will be an error, so use try\n",
    "    try:\n",
    "        borehole_prod = model.get_formatted_array('carrier_prod').sel(techs='geothermal_boreholes', \n",
    "                                                              carriers='geothermal_storage', \n",
    "                                                              locs=idx).to_pandas()\n",
    "        borehole_con = model.get_formatted_array('carrier_con').sel(techs='geothermal_boreholes',\n",
    "                                                                    carriers='geothermal_storage',\n",
    "                                                                    locs=idx).to_pandas()\n",
    "    except:\n",
    "        continue\n",
    "    plt.plot(x, borehole_prod.cumsum()+borehole_con.cumsum(), color='red', alpha=0.5)\n",
    "    # plt.plot(x, borehole_con.cumsum(), color='blue', alpha=0.5)\n",
    "    \n",
    "    # find the largest value of borehole_prod in this loop and report the index of it\n",
    "    if borehole_prod.max() > borehole_prod_max:\n",
    "        borehole_prod_max = borehole_prod.max()\n",
    "        borehole_prod_max_idx = idx\n",
    "    \n",
    "print(f'the building with the largest borehole_prod is {borehole_prod_max_idx} with a value of {borehole_prod_max}')\n",
    "# show the plot\n",
    "plt.show()"
   ],
   "metadata": {
    "collapsed": false,
    "ExecuteTime": {
     "end_time": "2023-12-11T19:36:19.902902800Z",
     "start_time": "2023-12-11T19:36:18.194688600Z"
    }
   },
   "id": "5d1fa843e059db3f"
  },
  {
   "cell_type": "code",
   "execution_count": null,
   "outputs": [],
   "source": [],
   "metadata": {
    "collapsed": false
   },
   "id": "cda54f1ef4799260"
  }
 ],
 "metadata": {
  "kernelspec": {
   "display_name": "Python 3",
   "language": "python",
   "name": "python3"
  },
  "language_info": {
   "codemirror_mode": {
    "name": "ipython",
    "version": 2
   },
   "file_extension": ".py",
   "mimetype": "text/x-python",
   "name": "python",
   "nbconvert_exporter": "python",
   "pygments_lexer": "ipython2",
   "version": "2.7.6"
  }
 },
 "nbformat": 4,
 "nbformat_minor": 5
}
