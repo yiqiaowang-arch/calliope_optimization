{
 "cells": [
  {
   "cell_type": "code",
   "execution_count": null,
   "outputs": [],
   "source": [
    "import calliope\n",
    "import pandas as pd\n",
    "from building import Building\n",
    "import geopandas as gpd\n",
    "import gc\n",
    "import os\n",
    "import matplotlib.pyplot as plt"
   ],
   "metadata": {
    "collapsed": false
   },
   "id": "56782513d0b5ae86"
  },
  {
   "cell_type": "code",
   "execution_count": null,
   "outputs": [],
   "source": [
    "zone_df = gpd.read_file(r'C:\\Users\\wangy\\OneDrive\\ETHY2FW\\IDP_Personal\\CEA\\2050 w3\\inputs\\building-geometry\\zone.shp')\n",
    "# iterate through the zone_df to create the building objects and store them in a list\n",
    "building_list = []\n",
    "# check if building's name is already stored in subfolder result_per_building; if not, add it to the list\n",
    "for index, row in zone_df.iterrows():\n",
    "    building_name = row['Name']\n",
    "    if building_name+'.nc' not in os.listdir('./result_per_building_3'):\n",
    "        building_list.append(building_name)\n",
    "    else:\n",
    "        print(building_name+' is already done')\n",
    "    \n",
    "# optimize the building one by one and store them in result_per_building as netcdf files\n",
    "for building_string in building_list:\n",
    "    building = Building(building_string, r'C:\\Users\\wangy\\OneDrive\\ETHY2FW\\IDP_Personal\\CEA\\2050 w3')\n",
    "    dict_timeseries_df = {'demand_el': building.app,\n",
    "                          'demand_sh': building.sh,\n",
    "                          'demand_dhw': building.dhw,\n",
    "                          'demand_sc': building.sc,\n",
    "                          'supply_PV': building.pv,\n",
    "                          'supply_PVT_e': building.pvt_e_intensity,\n",
    "                          'supply_PVT_h': building.pvt_h_relative_intensity,\n",
    "                          'supply_SCFP': building.scfp_intensity\n",
    "                          }\n",
    "    building_specific_config: calliope.AttrDict = calliope.AttrDict.from_yaml('./data/technology/techs_plot8.yml')\n",
    "    building_specific_config.set_key(key='locations.Building.available_area', value=building.area)\n",
    "    building_sub_dict = building_specific_config['locations'].pop('Building')\n",
    "    building_specific_config['locations'][building.name] = building_sub_dict\n",
    "    model = calliope.Model(building_specific_config, timeseries_dataframes=dict_timeseries_df)\n",
    "    model.run()\n",
    "    # save to result_per_building, which is a subfolder of current working directory\n",
    "    model.to_netcdf(path='./result_per_building_3/'+building.name+'.nc')\n",
    "    # calculate how many percent of the buildings are done, including the current one and its name\n",
    "    print('including '+building.name+', '+str(round(len(os.listdir('./result_per_building_2'))/len(zone_df.index)*100, 2))+'% of the buildings are done')\n",
    "    \n",
    "    del model\n",
    "    # also delete the instance and the timeseries dataframes to save memory\n",
    "    del building\n",
    "    del dict_timeseries_df\n",
    "    # clean up the rest of the memory\n",
    "    gc.collect()"
   ],
   "metadata": {
    "collapsed": false,
    "is_executing": true
   },
   "id": "1e224581ae576f79"
  },
  {
   "cell_type": "code",
   "execution_count": null,
   "outputs": [],
   "source": [
    "# read all the netcdf files in the subfolder, for every building, find the capacity data of the optimal configuration for each building, and store them as a line in a dataframe\n",
    "energy_cap_df = pd.DataFrame()\n",
    "for file in os.listdir('./result_per_building_2'):\n",
    "    model = calliope.read_netcdf('./result_per_building_2/'+file)\n",
    "    # add the building name as a row index, and all energy_cap values as a row, and don't use append because it's deprecated\n",
    "    # first define the column names\n",
    "    if energy_cap_df.empty:\n",
    "        energy_cap_df = pd.DataFrame(columns=model.get_formatted_array('energy_cap').to_pandas().columns)\n",
    "    # then add the row\n",
    "    energy_cap_df.loc[file[:-3]] = model.get_formatted_array('energy_cap').to_pandas().iloc[0]\n",
    "    \n",
    "    "
   ],
   "metadata": {
    "collapsed": false
   },
   "id": "a9a3e95b389ee248"
  },
  {
   "cell_type": "code",
   "execution_count": null,
   "outputs": [],
   "source": [
    "# plot the DHW_to_heat and wood_boiler_DHW fractions using df method\n",
    "energy_cap_df['fraction_DHW_to_heat'] = energy_cap_df['DHW_to_heat'] / energy_cap_df['wood_boiler_DHW']\n",
    "energy_cap_df.plot(y='fraction_DHW_to_heat', kind='hist', bins=100)\n"
   ],
   "metadata": {
    "collapsed": false
   },
   "id": "190d1ae7e6f40d7d"
  },
  {
   "cell_type": "code",
   "execution_count": null,
   "outputs": [],
   "source": [
    "print(building1.area)"
   ],
   "metadata": {
    "collapsed": false
   },
   "id": "5b2e3847b55d1b96"
  },
  {
   "cell_type": "code",
   "execution_count": null,
   "outputs": [],
   "source": [
    "model = calliope.Model(building_specific_config, timeseries_dataframes=dict_timeseries_df)"
   ],
   "metadata": {
    "collapsed": false
   },
   "id": "1187d4d8891fa76e"
  },
  {
   "cell_type": "code",
   "execution_count": null,
   "outputs": [],
   "source": [
    "\n",
    "model.run()"
   ],
   "metadata": {
    "collapsed": false
   },
   "id": "f0a25a2e264e0b57"
  },
  {
   "cell_type": "code",
   "execution_count": null,
   "outputs": [],
   "source": [
    "model.inputs.cost_purchase.to_pandas().dropna(axis=1)"
   ],
   "metadata": {
    "collapsed": false
   },
   "id": "19effdb72d477eb5"
  },
  {
   "cell_type": "code",
   "execution_count": null,
   "outputs": [],
   "source": [
    "model.plot.summary()"
   ],
   "metadata": {
    "collapsed": false
   },
   "id": "402cdf61d0de1dcd"
  },
  {
   "cell_type": "code",
   "execution_count": null,
   "outputs": [],
   "source": [
    "model.results."
   ],
   "metadata": {
    "collapsed": false
   },
   "id": "fb8695897a8d6704"
  }
 ],
 "metadata": {
  "kernelspec": {
   "display_name": "Python 3",
   "language": "python",
   "name": "python3"
  },
  "language_info": {
   "codemirror_mode": {
    "name": "ipython",
    "version": 2
   },
   "file_extension": ".py",
   "mimetype": "text/x-python",
   "name": "python",
   "nbconvert_exporter": "python",
   "pygments_lexer": "ipython2",
   "version": "2.7.6"
  }
 },
 "nbformat": 4,
 "nbformat_minor": 5
}
